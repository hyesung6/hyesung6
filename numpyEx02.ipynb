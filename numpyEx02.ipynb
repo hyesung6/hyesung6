{
  "nbformat": 4,
  "nbformat_minor": 0,
  "metadata": {
    "colab": {
      "name": "numpyEx02.ipynb",
      "provenance": [],
      "authorship_tag": "ABX9TyPvy30V/nRkiVxj5LsM4S7K"
    },
    "kernelspec": {
      "name": "python3",
      "display_name": "Python 3"
    },
    "language_info": {
      "name": "python"
    }
  },
  "cells": [
    {
      "cell_type": "markdown",
      "metadata": {
        "id": "mEMKd_4WTu9i"
      },
      "source": [
        "# ***인덱싱 보충***"
      ]
    },
    {
      "cell_type": "code",
      "metadata": {
        "id": "Ck0YdQswAS4E"
      },
      "source": [
        "import numpy as np"
      ],
      "execution_count": 2,
      "outputs": []
    },
    {
      "cell_type": "code",
      "metadata": {
        "colab": {
          "base_uri": "https://localhost:8080/"
        },
        "id": "LEWaMFsLAv-0",
        "outputId": "12700228-6493-42d3-9673-c98ccdcea707"
      },
      "source": [
        "# 인덱싱 정리\n",
        "a = np.array([[1, 2, 3], [4, 5, 6], [7, 8, 9], [10, 11, 12]])\n",
        "a"
      ],
      "execution_count": 3,
      "outputs": [
        {
          "output_type": "execute_result",
          "data": {
            "text/plain": [
              "array([[ 1,  2,  3],\n",
              "       [ 4,  5,  6],\n",
              "       [ 7,  8,  9],\n",
              "       [10, 11, 12]])"
            ]
          },
          "metadata": {},
          "execution_count": 3
        }
      ]
    },
    {
      "cell_type": "code",
      "metadata": {
        "colab": {
          "base_uri": "https://localhost:8080/"
        },
        "id": "g9dBE-2IAxOR",
        "outputId": "6c58ffb1-9c27-4cb9-b27c-30a776e25576"
      },
      "source": [
        "# 인덱스를 저장할 배열 생성\n",
        "idx = np.array([0, 2, 0, 1]); idx"
      ],
      "execution_count": 4,
      "outputs": [
        {
          "output_type": "execute_result",
          "data": {
            "text/plain": [
              "array([0, 2, 0, 1])"
            ]
          },
          "metadata": {},
          "execution_count": 4
        }
      ]
    },
    {
      "cell_type": "code",
      "metadata": {
        "colab": {
          "base_uri": "https://localhost:8080/"
        },
        "id": "9iM47anzBGMw",
        "outputId": "30b49bf6-7aa3-4770-80ef-8b39a33a4fb7"
      },
      "source": [
        "# 원본 배열 a의 각 행에서 인덱스에 일치하는 값 추출\n",
        "\n",
        "a[(0, 1, 2, 3), idx]"
      ],
      "execution_count": 9,
      "outputs": [
        {
          "output_type": "execute_result",
          "data": {
            "text/plain": [
              "array([ 1,  6,  7, 11])"
            ]
          },
          "metadata": {},
          "execution_count": 9
        }
      ]
    },
    {
      "cell_type": "code",
      "metadata": {
        "colab": {
          "base_uri": "https://localhost:8080/"
        },
        "id": "XWeYOkyVCUJ6",
        "outputId": "99f9d70f-5e9d-4777-f467-64cd4a9401c4"
      },
      "source": [
        "a[np.arange(4), idx]"
      ],
      "execution_count": 11,
      "outputs": [
        {
          "output_type": "execute_result",
          "data": {
            "text/plain": [
              "array([ 1,  6,  7, 11])"
            ]
          },
          "metadata": {},
          "execution_count": 11
        }
      ]
    },
    {
      "cell_type": "code",
      "metadata": {
        "id": "thXFNr7uDdQv"
      },
      "source": [
        "# a[:, idx]\n",
        "# 슬라이싱이므로 전체 행의 전체 열에 대해 idx 배열만큼 값을 추출함"
      ],
      "execution_count": null,
      "outputs": []
    },
    {
      "cell_type": "code",
      "metadata": {
        "colab": {
          "base_uri": "https://localhost:8080/"
        },
        "id": "j_DaHoeoELvM",
        "outputId": "06148f30-f8ae-4fa1-a6e7-059561f15946"
      },
      "source": [
        "# 원본 배열 a의 각 행에서 인덱스에 일치하는 값 추출하면서 연산\n",
        "result = a[np.arange(4), idx] * 2\n",
        "result"
      ],
      "execution_count": 19,
      "outputs": [
        {
          "output_type": "execute_result",
          "data": {
            "text/plain": [
              "array([ 2, 12, 14, 22])"
            ]
          },
          "metadata": {},
          "execution_count": 19
        }
      ]
    },
    {
      "cell_type": "code",
      "metadata": {
        "colab": {
          "base_uri": "https://localhost:8080/"
        },
        "id": "d4gfLVqWCYQh",
        "outputId": "9e8869a2-5284-439a-dfc1-d4a22f1faef6"
      },
      "source": [
        "# 부울 인덱싱 정리\n",
        "b = np.array([0, 1, 2, 3, 4, 5, 6, 7, 8, 9]); b"
      ],
      "execution_count": 12,
      "outputs": [
        {
          "output_type": "execute_result",
          "data": {
            "text/plain": [
              "array([0, 1, 2, 3, 4, 5, 6, 7, 8, 9])"
            ]
          },
          "metadata": {},
          "execution_count": 12
        }
      ]
    },
    {
      "cell_type": "code",
      "metadata": {
        "colab": {
          "base_uri": "https://localhost:8080/"
        },
        "id": "3ZE_SriFCsO6",
        "outputId": "19e150a5-ef76-4541-b714-3092ef9761d1"
      },
      "source": [
        "# 부울 인덱싱으로 짝수 구하기\n",
        "boolean = np.array([True, False, True, False, True, False, True, False, True, False])\n",
        "b[boolean]"
      ],
      "execution_count": 18,
      "outputs": [
        {
          "output_type": "execute_result",
          "data": {
            "text/plain": [
              "array([0, 2, 4, 6, 8])"
            ]
          },
          "metadata": {},
          "execution_count": 18
        }
      ]
    },
    {
      "cell_type": "code",
      "metadata": {
        "colab": {
          "base_uri": "https://localhost:8080/"
        },
        "id": "Pp9e8TnkEk-m",
        "outputId": "d24f2f24-353b-402c-851d-b30b569fef57"
      },
      "source": [
        "b[b%2==0]"
      ],
      "execution_count": 20,
      "outputs": [
        {
          "output_type": "execute_result",
          "data": {
            "text/plain": [
              "array([0, 2, 4, 6, 8])"
            ]
          },
          "metadata": {},
          "execution_count": 20
        }
      ]
    },
    {
      "cell_type": "markdown",
      "metadata": {
        "id": "fCuSJuWZFbDs"
      },
      "source": [
        "# ***선형대수 ( Linear algebra )***\n"
      ]
    },
    {
      "cell_type": "code",
      "metadata": {
        "id": "ai4bAzyiFfgN"
      },
      "source": [
        "# 선형 : 그래프가 원점을 지나는 직선 y = mx 함수\n",
        "# 대수(학) : '흩어진 조각들을 모아서 재조합' 함수그래프에서 보이는 둘 이상의 함수를 합쳐 만드는 것\n",
        "# 인공지능에서는 '데이터 분석에 필요한 여러 계산을 돕기 위한 학문'으로 사용 중\n",
        "\n",
        "# 물리량(데이터)의 유형\n",
        "# - 스칼라 (Scalar) : 하나의 수치로 이루어진 데이터\n",
        "# - 벡터 (Vector) : 여러 개의 수치로 이루어진 데이터 (Data Record)\n",
        "# - 행렬 (Matrix) : 여러 개의 벡터로 이루어진 데이터 집합"
      ],
      "execution_count": null,
      "outputs": []
    },
    {
      "cell_type": "code",
      "metadata": {
        "colab": {
          "base_uri": "https://localhost:8080/"
        },
        "id": "9co-urBtLhIr",
        "outputId": "9e85422d-74d5-4c88-fb2f-4813eb044155"
      },
      "source": [
        "# 스칼라\n",
        "x = 1\n",
        "x"
      ],
      "execution_count": 21,
      "outputs": [
        {
          "output_type": "execute_result",
          "data": {
            "text/plain": [
              "1"
            ]
          },
          "metadata": {},
          "execution_count": 21
        }
      ]
    },
    {
      "cell_type": "code",
      "metadata": {
        "colab": {
          "base_uri": "https://localhost:8080/"
        },
        "id": "d_5ooLddLp4G",
        "outputId": "903f01e5-8e77-4777-a9fa-ea8e2b1b714c"
      },
      "source": [
        "# 벡터\n",
        "# numpy에서 벡터를 표현할 때는 열의 개수가 하나인 2차원 배열 객체로 표현하는 것을 권장함.\n",
        "x = np.array([[2], [2], [2]])\n",
        "x"
      ],
      "execution_count": 22,
      "outputs": [
        {
          "output_type": "execute_result",
          "data": {
            "text/plain": [
              "array([[2],\n",
              "       [2],\n",
              "       [2]])"
            ]
          },
          "metadata": {},
          "execution_count": 22
        }
      ]
    },
    {
      "cell_type": "code",
      "metadata": {
        "id": "2ztF2csSMOOJ"
      },
      "source": [
        "# 벡터\n",
        "x = np.array([2, 2, 3])\n",
        "# 위와 같은 1차원 배열 객체도 벡터로 인정하긴 함\n"
      ],
      "execution_count": null,
      "outputs": []
    },
    {
      "cell_type": "code",
      "metadata": {
        "colab": {
          "base_uri": "https://localhost:8080/"
        },
        "id": "9jnymvZDMdTW",
        "outputId": "0ad9b3fd-57bb-4538-98c4-da2b8b4ac80e"
      },
      "source": [
        "# 행렬\n",
        "# : 복수의 데이터 집합을 행렬이라고 표현\n",
        "\n",
        "x = np.array([[2, 2], [3, 3], [4, 4], [5, 5]])\n",
        "x"
      ],
      "execution_count": 25,
      "outputs": [
        {
          "output_type": "execute_result",
          "data": {
            "text/plain": [
              "array([[2, 2],\n",
              "       [3, 3],\n",
              "       [4, 4],\n",
              "       [5, 5]])"
            ]
          },
          "metadata": {},
          "execution_count": 25
        }
      ]
    },
    {
      "cell_type": "code",
      "metadata": {
        "id": "7IgTDjjCM4-o"
      },
      "source": [
        "# 특수한 벡터와 행렬\n",
        "\n",
        "# - 영벡터 : 몇 차원인지는 무관하게, 모든 원소가 0인 n차원 벡터\n",
        "# - 일벡터 : 모든 원소가 1인 n차원 벡터\n",
        "\n",
        "# - 전치행렬 : 행렬에서 가장 기본이 되는 연산 (행과 열을 바꾸는 연산)\n",
        "#            : 전치연산으로 만들어진 행렬을 원래 행렬에 대한 전치행렬이라고 함\n",
        "# - 정방행렬 (square matrix) : 행과 열의 개수가 같은 행렬\n",
        "# - 단위행렬 (identify matrix) : 대각행렬 중에서 모든 대각요소(주요소)값이 1인 대각행렬\n",
        "# - 대각행렬 (diagonal matrix) : 모든 비대각요소(off-diagonal)가 0인 정방 행렬\n",
        "# - 대칭행렬 (sysmetic matrix) : 전치연산을 통해서 얻은 전치행렬과 원래의 행렬이 같은 경우 \n"
      ],
      "execution_count": null,
      "outputs": []
    },
    {
      "cell_type": "code",
      "metadata": {
        "colab": {
          "base_uri": "https://localhost:8080/"
        },
        "id": "oCrLSxO9QOeD",
        "outputId": "3c970da9-7f32-4282-d2b3-f88beffc75be"
      },
      "source": [
        "# 전치 연산\n",
        "x.T"
      ],
      "execution_count": 26,
      "outputs": [
        {
          "output_type": "execute_result",
          "data": {
            "text/plain": [
              "array([[2, 3, 4, 5],\n",
              "       [2, 3, 4, 5]])"
            ]
          },
          "metadata": {},
          "execution_count": 26
        }
      ]
    },
    {
      "cell_type": "code",
      "metadata": {
        "colab": {
          "base_uri": "https://localhost:8080/"
        },
        "id": "F1b3C_uEQXIZ",
        "outputId": "368dc7e2-405e-4fc6-9e6a-c46b171541c3"
      },
      "source": [
        "x = np.array([[2], [2], [3]])\n",
        "x"
      ],
      "execution_count": 27,
      "outputs": [
        {
          "output_type": "execute_result",
          "data": {
            "text/plain": [
              "array([[2],\n",
              "       [2],\n",
              "       [3]])"
            ]
          },
          "metadata": {},
          "execution_count": 27
        }
      ]
    },
    {
      "cell_type": "code",
      "metadata": {
        "colab": {
          "base_uri": "https://localhost:8080/"
        },
        "id": "_oBmOlqqQb8I",
        "outputId": "2fdbe332-dfd4-4b0c-91af-cc14c7e42fba"
      },
      "source": [
        "x.T\n",
        "# 3열로 이루어진 행렬 x는 2차원 벡터이고 전치행렬로 바꾸면 \n",
        "# 2차원 벡터를 1차원으로 표현하고 있는 것이므로 벡터로 인정할 수 있는 것.\n",
        "# ==> 행벡터"
      ],
      "execution_count": 28,
      "outputs": [
        {
          "output_type": "execute_result",
          "data": {
            "text/plain": [
              "array([[2, 2, 3]])"
            ]
          },
          "metadata": {},
          "execution_count": 28
        }
      ]
    },
    {
      "cell_type": "code",
      "metadata": {
        "colab": {
          "base_uri": "https://localhost:8080/"
        },
        "id": "iTiIw42SRj1Q",
        "outputId": "9c245725-8f0c-4136-cbd9-eef7922bbd50"
      },
      "source": [
        "# cf\n",
        "x = np.array([2, 2, 3])\n",
        "x"
      ],
      "execution_count": 29,
      "outputs": [
        {
          "output_type": "execute_result",
          "data": {
            "text/plain": [
              "array([2, 2, 3])"
            ]
          },
          "metadata": {},
          "execution_count": 29
        }
      ]
    },
    {
      "cell_type": "code",
      "metadata": {
        "colab": {
          "base_uri": "https://localhost:8080/"
        },
        "id": "Cow3byrGRrgs",
        "outputId": "95a5654c-972d-49a4-b18d-b60c1806b9d1"
      },
      "source": [
        "x.T\n",
        "# 3행으로 이루어진 행렬 x는 1차원 행렬이고 전치행렬 함수를 수행해도\n",
        "# 1차원을 2차원으로 표현하는 것이 불가능하므로 수행되지 않음\n",
        "\n",
        "# 열로 이루어진 벡터에서 행벡터로의 전환은 가능하지만 \n",
        "# 행벡터는 열벡터로 전환이 불가능"
      ],
      "execution_count": 30,
      "outputs": [
        {
          "output_type": "execute_result",
          "data": {
            "text/plain": [
              "array([2, 2, 3])"
            ]
          },
          "metadata": {},
          "execution_count": 30
        }
      ]
    },
    {
      "cell_type": "code",
      "metadata": {
        "colab": {
          "base_uri": "https://localhost:8080/"
        },
        "id": "vo7jmHniSt-P",
        "outputId": "e9fb5964-c2e3-436c-a318-7b735f420480"
      },
      "source": [
        "# 대각행렬\n",
        "np.diag([1, 2, 3])"
      ],
      "execution_count": 31,
      "outputs": [
        {
          "output_type": "execute_result",
          "data": {
            "text/plain": [
              "array([[1, 0, 0],\n",
              "       [0, 2, 0],\n",
              "       [0, 0, 3]])"
            ]
          },
          "metadata": {},
          "execution_count": 31
        }
      ]
    },
    {
      "cell_type": "code",
      "metadata": {
        "colab": {
          "base_uri": "https://localhost:8080/"
        },
        "id": "m3vRccL0SyzP",
        "outputId": "2317cb12-11c4-44d2-a337-80170d812590"
      },
      "source": [
        "# 단위행렬1\n",
        "np.eye(3)"
      ],
      "execution_count": 32,
      "outputs": [
        {
          "output_type": "execute_result",
          "data": {
            "text/plain": [
              "array([[1., 0., 0.],\n",
              "       [0., 1., 0.],\n",
              "       [0., 0., 1.]])"
            ]
          },
          "metadata": {},
          "execution_count": 32
        }
      ]
    },
    {
      "cell_type": "code",
      "metadata": {
        "colab": {
          "base_uri": "https://localhost:8080/"
        },
        "id": "uPPaShaIS85A",
        "outputId": "0a352cce-e6f2-409d-bab8-7be6b6bd8ac9"
      },
      "source": [
        "# 단위행렬2\n",
        "np.identity(3)"
      ],
      "execution_count": 33,
      "outputs": [
        {
          "output_type": "execute_result",
          "data": {
            "text/plain": [
              "array([[1., 0., 0.],\n",
              "       [0., 1., 0.],\n",
              "       [0., 0., 1.]])"
            ]
          },
          "metadata": {},
          "execution_count": 33
        }
      ]
    },
    {
      "cell_type": "markdown",
      "metadata": {
        "id": "yCbH-MHRTX21"
      },
      "source": [
        "# ***결측치***"
      ]
    },
    {
      "cell_type": "code",
      "metadata": {
        "id": "zpAVLS66TWfN"
      },
      "source": [
        "# 결측치 : 없는 데이터, 잘못된 데이터\n",
        "# pyhton에서 결측치 처리 방식 : NULL(object), NaN\n",
        "# numpy : nan"
      ],
      "execution_count": null,
      "outputs": []
    },
    {
      "cell_type": "code",
      "metadata": {
        "colab": {
          "base_uri": "https://localhost:8080/"
        },
        "id": "9qoG1StjUu-h",
        "outputId": "439457a5-fa6f-43b6-fed9-218450a4416f"
      },
      "source": [
        "a = np.array([np.nan, 1, 2, np.nan, 3, 4, 5]); a"
      ],
      "execution_count": 34,
      "outputs": [
        {
          "output_type": "execute_result",
          "data": {
            "text/plain": [
              "array([nan,  1.,  2., nan,  3.,  4.,  5.])"
            ]
          },
          "metadata": {},
          "execution_count": 34
        }
      ]
    },
    {
      "cell_type": "code",
      "metadata": {
        "colab": {
          "base_uri": "https://localhost:8080/"
        },
        "id": "h007nqVCU54I",
        "outputId": "30d3f731-7b5f-4841-e729-97211f591967"
      },
      "source": [
        "np.isnan(a)"
      ],
      "execution_count": 36,
      "outputs": [
        {
          "output_type": "execute_result",
          "data": {
            "text/plain": [
              "array([ True, False, False,  True, False, False, False])"
            ]
          },
          "metadata": {},
          "execution_count": 36
        }
      ]
    },
    {
      "cell_type": "markdown",
      "metadata": {
        "id": "_TpJ2Pe1a8VG"
      },
      "source": [
        "# ***numpy 자료형***"
      ]
    },
    {
      "cell_type": "code",
      "metadata": {
        "colab": {
          "base_uri": "https://localhost:8080/",
          "height": 107
        },
        "id": "7Kzkb_Uia_O0",
        "outputId": "b91d645d-5b6a-41cf-e7cd-df8e720a76b8"
      },
      "source": [
        "'''\n",
        "dtype 속성에 해당 자료형 첫글자를 부여\n",
        "\n",
        "- b : boolean        ==> dtype='b'\n",
        "- i : int(정수형)    ==> dtype='i8' (64bit)\n",
        "- u : 부호 없는 정수 ==> dtype='u8'\n",
        "- f : 부동소수점     ==> dtype='f8'\n",
        "- c : 복소수 부동소수점 ==> dtype='c16' (128bit)\n",
        "- O : 객체              ==> dtype='O' (객체에 대한 포인터)\n",
        "- S : 바이트 문자열     ==> dtype='S24' (24글자)\n",
        "- U : 유니코드 문자열   ==> dtype='U24' (24 유니코드 문자)\n",
        "\n",
        "- Inf : 무한대\n",
        "- NaN (Not a Number)\n",
        "- N/A (Not Available, Not application)\n",
        "'''\n",
        "\n",
        "# numpy 자료형을 지정할 때,\n",
        "# 직접 값을 넣거나\n",
        "# dtype 속성을 이용해서 지정할 수 있다."
      ],
      "execution_count": 37,
      "outputs": [
        {
          "output_type": "execute_result",
          "data": {
            "application/vnd.google.colaboratory.intrinsic+json": {
              "type": "string"
            },
            "text/plain": [
              "\"\\ndtype 속성에 해당 자료형 첫글자를 부여\\n\\n- b : boolean        ==> dtype='b'\\n- i : int(정수형)    ==> dtype='i8' (64bit)\\n- u : 부호 없는 정수 ==> dtype='u8'\\n- f : 부동소수점     ==> dtype='f8'\\n- c : 복소수 부동소수점 ==> dtype='c16' (128bit)\\n- O : 객체              ==> dtype='O' (객체에 대한 포인터)\\n- S : 바이트 문자열     ==> dtype='S24' (24글자)\\n- U : 유니코드 문자열   ==> dtype='U24' (24 유니코드 문자)\\n\\n- Inf : 무한대\\n- NaN (Not a Number)\\n- N/A (Not Available, Not application)\\n\""
            ]
          },
          "metadata": {},
          "execution_count": 37
        }
      ]
    },
    {
      "cell_type": "code",
      "metadata": {
        "colab": {
          "base_uri": "https://localhost:8080/"
        },
        "id": "9Gay3dOzcU4t",
        "outputId": "159921de-a27e-42ef-9461-5c3371e9d87c"
      },
      "source": [
        "x = np.array([1, 2, 3])\n",
        "print(x)\n",
        "x.dtype"
      ],
      "execution_count": 39,
      "outputs": [
        {
          "output_type": "stream",
          "name": "stdout",
          "text": [
            "[1 2 3]\n"
          ]
        },
        {
          "output_type": "execute_result",
          "data": {
            "text/plain": [
              "dtype('int64')"
            ]
          },
          "metadata": {},
          "execution_count": 39
        }
      ]
    },
    {
      "cell_type": "code",
      "metadata": {
        "colab": {
          "base_uri": "https://localhost:8080/"
        },
        "id": "iBZ0ceY8dThx",
        "outputId": "7fc006d3-b6d8-4d54-e781-65aa9a28253e"
      },
      "source": [
        "x = np.array([1, 2, 3], dtype='float')\n",
        "print(x.dtype)\n",
        "\n",
        "x = np.array([1, 2, 3.0], dtype='f')\n",
        "print(x.dtype)\n",
        "\n",
        "# float 과 f는 bit에 변화가 생긴다. f는 32bit , float은 64bit"
      ],
      "execution_count": 49,
      "outputs": [
        {
          "output_type": "stream",
          "name": "stdout",
          "text": [
            "float64\n",
            "float32\n"
          ]
        }
      ]
    },
    {
      "cell_type": "code",
      "metadata": {
        "colab": {
          "base_uri": "https://localhost:8080/"
        },
        "id": "OGsX_H3weJ_a",
        "outputId": "80feb617-236e-448e-a565-cecde5d7d2ff"
      },
      "source": [
        "x = np.array([1, 2, 3], dtype='U')\n",
        "x.dtype"
      ],
      "execution_count": 46,
      "outputs": [
        {
          "output_type": "execute_result",
          "data": {
            "text/plain": [
              "dtype('<U1')"
            ]
          },
          "metadata": {},
          "execution_count": 46
        }
      ]
    },
    {
      "cell_type": "code",
      "metadata": {
        "colab": {
          "base_uri": "https://localhost:8080/",
          "height": 35
        },
        "id": "RI3dMGsYevv_",
        "outputId": "61d06a62-6917-4000-f62c-7dbfc7b8ed88"
      },
      "source": [
        "x[0] + x[1]"
      ],
      "execution_count": 47,
      "outputs": [
        {
          "output_type": "execute_result",
          "data": {
            "application/vnd.google.colaboratory.intrinsic+json": {
              "type": "string"
            },
            "text/plain": [
              "'12'"
            ]
          },
          "metadata": {},
          "execution_count": 47
        }
      ]
    },
    {
      "cell_type": "code",
      "metadata": {
        "colab": {
          "base_uri": "https://localhost:8080/"
        },
        "id": "AM1AE7hde8tg",
        "outputId": "54e9f809-6dc9-4fa0-c315-19c617d91c6a"
      },
      "source": [
        "# np.array([0, 1, -1, 0]) / np.array([1, 0, 0, 0])\n",
        "\n",
        "# 0으로 나누는 연산은 에러 발생함"
      ],
      "execution_count": 54,
      "outputs": [
        {
          "output_type": "execute_result",
          "data": {
            "text/plain": [
              "array([0, 0, 0, 0])"
            ]
          },
          "metadata": {},
          "execution_count": 54
        }
      ]
    },
    {
      "cell_type": "markdown",
      "metadata": {
        "id": "2NJICtcjgDDc"
      },
      "source": [
        "# ***배열 연결(concatenate)***"
      ]
    },
    {
      "cell_type": "code",
      "metadata": {
        "id": "cWDMYX1sgIXk"
      },
      "source": [
        "'''\n",
        "행의 수나 열의 수가 같은 2개 이상의 배열을 \n",
        "연결하여 더 큰 배열을 만들 때 사용하는 방법\n",
        "\n",
        " (h : horizontal)\n",
        "- hstack : 행의 수가 같은 두 개 이상의 배열을 \n",
        "           옆으로 연결하여 열의 수가 더 많은 배열을 생성\n",
        "           (주의 - 연결할 배열이 하나의 리스트에 담겨 있어야 함)\n",
        "\n",
        " (v : vertical)\n",
        "- vstack : 열의 수가 같은 두 개 이상의 배열을\n",
        "           위아래로 연결하여 행의 수가 더 많은 배열을 생성\n",
        "           (주의 - 연결한 배열이 하나의 리스트에 담겨 있어야 함)\n",
        " \n",
        " (d : depth)\n",
        "- dstack : 깊이 방향으로 배열을 연결\n",
        "\n",
        "- stack : dstack 확장 버전\n",
        "          (주의 - 배열이 겹쳐지듯이 사용되므로 연결하고자 하는 배열의 크기가 모두 같아야 함)\n",
        "        : axis 인수를 사용할 수 있고 0~2까지 가능\n",
        "\n",
        "- tile : 동일한 배열을 반복해서 연결할 때 사용 (비슷한 명령 repeat)\n",
        "\n",
        "# 인덱서 (특수 메소드) : 메소드이지만 ()를 사용하지 않음. \n",
        "인덱싱과 같이 대괄호[]를 사용하므로 인덱서라고 지칭\n",
        "- r_메소드 : hstack과 비슷한 명령, 배열을 좌우로 연결\n",
        "- c_메소드 : 배열의 차원을 증가시킨 후 좌우로 연결\n",
        "             => ex) 1차원 배열을 c_메소드 적용하면 2차원 배열이 됨"
      ],
      "execution_count": null,
      "outputs": []
    },
    {
      "cell_type": "code",
      "metadata": {
        "colab": {
          "base_uri": "https://localhost:8080/"
        },
        "id": "uEy8-lOSmt-A",
        "outputId": "317abfd4-9b34-4470-ee3a-24c6f6b0e7df"
      },
      "source": [
        "a1 = np.ones((2, 3))\n",
        "a2 = np.zeros((2, 2))\n",
        "\n",
        "print(a1)\n",
        "print(a2)"
      ],
      "execution_count": 58,
      "outputs": [
        {
          "output_type": "stream",
          "name": "stdout",
          "text": [
            "[[1. 1. 1.]\n",
            " [1. 1. 1.]]\n",
            "[[0. 0.]\n",
            " [0. 0.]]\n"
          ]
        }
      ]
    },
    {
      "cell_type": "code",
      "metadata": {
        "colab": {
          "base_uri": "https://localhost:8080/"
        },
        "id": "zt6IAoU4m2kX",
        "outputId": "9a592f6e-e0a7-44f2-e1df-22a186af6a16"
      },
      "source": [
        "# hstack\n",
        "\n",
        "np.hstack([a1, a2])"
      ],
      "execution_count": 56,
      "outputs": [
        {
          "output_type": "execute_result",
          "data": {
            "text/plain": [
              "array([[1., 1., 1., 0., 0.],\n",
              "       [1., 1., 1., 0., 0.]])"
            ]
          },
          "metadata": {},
          "execution_count": 56
        }
      ]
    },
    {
      "cell_type": "code",
      "metadata": {
        "colab": {
          "base_uri": "https://localhost:8080/"
        },
        "id": "GQ-Mo4s5nN_w",
        "outputId": "ed5dcc80-30e9-4005-e7e6-b065017e58d6"
      },
      "source": [
        "# vstack\n",
        "\n",
        "a1 = np.ones((2, 3))\n",
        "a2 = np.zeros((3, 3))\n",
        "\n",
        "np.vstack([a1, a2])"
      ],
      "execution_count": 60,
      "outputs": [
        {
          "output_type": "execute_result",
          "data": {
            "text/plain": [
              "array([[1., 1., 1.],\n",
              "       [1., 1., 1.],\n",
              "       [0., 0., 0.],\n",
              "       [0., 0., 0.],\n",
              "       [0., 0., 0.]])"
            ]
          },
          "metadata": {},
          "execution_count": 60
        }
      ]
    },
    {
      "cell_type": "code",
      "metadata": {
        "colab": {
          "base_uri": "https://localhost:8080/"
        },
        "id": "jaaruoNsnN4e",
        "outputId": "4b3432c2-0fb9-4e05-a969-87699bb9b9e4"
      },
      "source": [
        "c1 = np.ones((3, 4)); c1\n",
        "c2 = np.zeros((3, 4)); c2\n",
        "\n",
        "#dstack\n",
        "np.dstack([c1, c2])"
      ],
      "execution_count": 61,
      "outputs": [
        {
          "output_type": "execute_result",
          "data": {
            "text/plain": [
              "array([[[1., 0.],\n",
              "        [1., 0.],\n",
              "        [1., 0.],\n",
              "        [1., 0.]],\n",
              "\n",
              "       [[1., 0.],\n",
              "        [1., 0.],\n",
              "        [1., 0.],\n",
              "        [1., 0.]],\n",
              "\n",
              "       [[1., 0.],\n",
              "        [1., 0.],\n",
              "        [1., 0.],\n",
              "        [1., 0.]]])"
            ]
          },
          "metadata": {},
          "execution_count": 61
        }
      ]
    },
    {
      "cell_type": "code",
      "metadata": {
        "colab": {
          "base_uri": "https://localhost:8080/"
        },
        "id": "oYI93wAin9sQ",
        "outputId": "63306276-6e92-43d3-99d3-0f683cd3f2fd"
      },
      "source": [
        "(np.dstack([c1, c2])).shape            # shape 확인시 (깊이, 행, 열)형태로 출력된다. "
      ],
      "execution_count": 62,
      "outputs": [
        {
          "output_type": "execute_result",
          "data": {
            "text/plain": [
              "(3, 4, 2)"
            ]
          },
          "metadata": {},
          "execution_count": 62
        }
      ]
    },
    {
      "cell_type": "code",
      "metadata": {
        "colab": {
          "base_uri": "https://localhost:8080/"
        },
        "id": "QxGxnmYWoMRQ",
        "outputId": "62990567-ff8d-42fa-cefe-e1fd7a5b69a7"
      },
      "source": [
        "# stack\n",
        "\n",
        "np.stack([c1, c2])"
      ],
      "execution_count": 63,
      "outputs": [
        {
          "output_type": "execute_result",
          "data": {
            "text/plain": [
              "array([[[1., 1., 1., 1.],\n",
              "        [1., 1., 1., 1.],\n",
              "        [1., 1., 1., 1.]],\n",
              "\n",
              "       [[0., 0., 0., 0.],\n",
              "        [0., 0., 0., 0.],\n",
              "        [0., 0., 0., 0.]]])"
            ]
          },
          "metadata": {},
          "execution_count": 63
        }
      ]
    },
    {
      "cell_type": "code",
      "metadata": {
        "colab": {
          "base_uri": "https://localhost:8080/"
        },
        "id": "p44XdvrwoStF",
        "outputId": "7c9e5adb-a5b1-426e-a4fc-8f78278ade3d"
      },
      "source": [
        "np.stack([c1, c2], axis=0)       # axis=0 : default"
      ],
      "execution_count": 64,
      "outputs": [
        {
          "output_type": "execute_result",
          "data": {
            "text/plain": [
              "array([[[1., 1., 1., 1.],\n",
              "        [1., 1., 1., 1.],\n",
              "        [1., 1., 1., 1.]],\n",
              "\n",
              "       [[0., 0., 0., 0.],\n",
              "        [0., 0., 0., 0.],\n",
              "        [0., 0., 0., 0.]]])"
            ]
          },
          "metadata": {},
          "execution_count": 64
        }
      ]
    },
    {
      "cell_type": "code",
      "metadata": {
        "colab": {
          "base_uri": "https://localhost:8080/"
        },
        "id": "vS6ZUxsWouBS",
        "outputId": "48baba4f-4686-4728-a3d0-cc73eb5dfbe8"
      },
      "source": [
        "np.stack([c1, c2], axis=1)       # axis=1 : 각 행끼리 차원 결합"
      ],
      "execution_count": 65,
      "outputs": [
        {
          "output_type": "execute_result",
          "data": {
            "text/plain": [
              "array([[[1., 1., 1., 1.],\n",
              "        [0., 0., 0., 0.]],\n",
              "\n",
              "       [[1., 1., 1., 1.],\n",
              "        [0., 0., 0., 0.]],\n",
              "\n",
              "       [[1., 1., 1., 1.],\n",
              "        [0., 0., 0., 0.]]])"
            ]
          },
          "metadata": {},
          "execution_count": 65
        }
      ]
    },
    {
      "cell_type": "code",
      "metadata": {
        "colab": {
          "base_uri": "https://localhost:8080/"
        },
        "id": "PYkU5Vf8o6T7",
        "outputId": "ae3beca2-1c6c-48e6-ee4a-c1377dee204f"
      },
      "source": [
        "np.stack([c1, c2], axis=1).shape"
      ],
      "execution_count": 66,
      "outputs": [
        {
          "output_type": "execute_result",
          "data": {
            "text/plain": [
              "(3, 2, 4)"
            ]
          },
          "metadata": {},
          "execution_count": 66
        }
      ]
    },
    {
      "cell_type": "code",
      "metadata": {
        "colab": {
          "base_uri": "https://localhost:8080/"
        },
        "id": "whLVN2sPpIGx",
        "outputId": "4613d0fd-9df2-4e5a-e8fc-91a48469c2a6"
      },
      "source": [
        "# r_인덱서\n",
        "r1 = np.array([1, 2, 3])\n",
        "r2 = np.array([4, 5, 6])\n",
        "\n",
        "np.r_[r1, r2]"
      ],
      "execution_count": 67,
      "outputs": [
        {
          "output_type": "execute_result",
          "data": {
            "text/plain": [
              "array([1, 2, 3, 4, 5, 6])"
            ]
          },
          "metadata": {},
          "execution_count": 67
        }
      ]
    },
    {
      "cell_type": "code",
      "metadata": {
        "colab": {
          "base_uri": "https://localhost:8080/"
        },
        "id": "Hah-T1wqpiJp",
        "outputId": "ad6b07ca-fcea-4979-8420-e5dbf2f5e8a0"
      },
      "source": [
        "# c_인덱서\n",
        "np.c_[r1, r2]"
      ],
      "execution_count": 68,
      "outputs": [
        {
          "output_type": "execute_result",
          "data": {
            "text/plain": [
              "array([[1, 4],\n",
              "       [2, 5],\n",
              "       [3, 6]])"
            ]
          },
          "metadata": {},
          "execution_count": 68
        }
      ]
    },
    {
      "cell_type": "code",
      "metadata": {
        "colab": {
          "base_uri": "https://localhost:8080/"
        },
        "id": "5HWX1_2hqR3s",
        "outputId": "75e157a6-8be7-4312-dc32-8b5117865ac0"
      },
      "source": [
        "# tile             # []로 묶인 객체들을 반복\n",
        "t = np.array([[0, 1, 2], [11, 22, 33]])\n",
        "np.tile(t, 2)"
      ],
      "execution_count": 71,
      "outputs": [
        {
          "output_type": "execute_result",
          "data": {
            "text/plain": [
              "array([[ 0,  1,  2,  0,  1,  2],\n",
              "       [11, 22, 33, 11, 22, 33]])"
            ]
          },
          "metadata": {},
          "execution_count": 71
        }
      ]
    },
    {
      "cell_type": "code",
      "metadata": {
        "colab": {
          "base_uri": "https://localhost:8080/"
        },
        "id": "9YjTRhN0qeab",
        "outputId": "7de6373b-1e86-4476-8d08-1bc9dd0faf0d"
      },
      "source": [
        "# 행, 열 모두 반복 - tuple로 적용\n",
        "np.tile(t, (3, 2))"
      ],
      "execution_count": 72,
      "outputs": [
        {
          "output_type": "execute_result",
          "data": {
            "text/plain": [
              "array([[ 0,  1,  2,  0,  1,  2],\n",
              "       [11, 22, 33, 11, 22, 33],\n",
              "       [ 0,  1,  2,  0,  1,  2],\n",
              "       [11, 22, 33, 11, 22, 33],\n",
              "       [ 0,  1,  2,  0,  1,  2],\n",
              "       [11, 22, 33, 11, 22, 33]])"
            ]
          },
          "metadata": {},
          "execution_count": 72
        }
      ]
    },
    {
      "cell_type": "code",
      "metadata": {
        "colab": {
          "base_uri": "https://localhost:8080/"
        },
        "id": "OOlA7GlzqkGy",
        "outputId": "ef46ed5b-5612-4fdf-8050-f32816043cb5"
      },
      "source": [
        "# repeat - 요소값을 그대로 반복\n",
        "rp = np.array([[1, 2], [3, 4]])\n",
        "np.repeat(rp, 2)"
      ],
      "execution_count": 74,
      "outputs": [
        {
          "output_type": "execute_result",
          "data": {
            "text/plain": [
              "array([1, 1, 2, 2, 3, 3, 4, 4])"
            ]
          },
          "metadata": {},
          "execution_count": 74
        }
      ]
    },
    {
      "cell_type": "code",
      "metadata": {
        "colab": {
          "base_uri": "https://localhost:8080/"
        },
        "id": "bJ1M-dT9rDc2",
        "outputId": "b660063d-2217-4b16-ce0b-42d177a0b093"
      },
      "source": [
        "# repeat에도 axis 속성이 있다\n",
        "print(np.repeat(rp, 2))\n",
        "print(np.repeat(rp, 2, axis=1))\n",
        "print(np.repeat(rp, 3, axis=0))\n"
      ],
      "execution_count": 75,
      "outputs": [
        {
          "output_type": "stream",
          "name": "stdout",
          "text": [
            "[1 1 2 2 3 3 4 4]\n",
            "[[1 1 2 2]\n",
            " [3 3 4 4]]\n",
            "[[1 2]\n",
            " [1 2]\n",
            " [1 2]\n",
            " [3 4]\n",
            " [3 4]\n",
            " [3 4]]\n"
          ]
        }
      ]
    },
    {
      "cell_type": "markdown",
      "metadata": {
        "id": "9I4nIPnarhia"
      },
      "source": [
        "# ***난수 ( Random Number)***\n"
      ]
    },
    {
      "cell_type": "code",
      "metadata": {
        "id": "gc03kFd6rnNv"
      },
      "source": [
        "'''\n",
        "numpy에서 난수 생성 : np.rand()  -   0부터 1사이의 실수\n",
        "seed(씨앗값) : 보통의 프로그래밍 언어는 난수값이 설정되어있음 \n",
        "             : 조금 더 난수를 만들고 싶으면 이 씨앗값을 바꾸는 형태로 사용\n",
        "'''"
      ],
      "execution_count": null,
      "outputs": []
    },
    {
      "cell_type": "code",
      "metadata": {
        "colab": {
          "base_uri": "https://localhost:8080/"
        },
        "id": "innvo-VosUci",
        "outputId": "1d8ee9cd-ffb2-4d20-cbf5-c577c2da5ead"
      },
      "source": [
        "import numpy as np\n",
        "\n",
        "np.random.seed(0)\n",
        "np.random.rand(5)"
      ],
      "execution_count": 81,
      "outputs": [
        {
          "output_type": "execute_result",
          "data": {
            "text/plain": [
              "array([0.5488135 , 0.71518937, 0.60276338, 0.54488318, 0.4236548 ])"
            ]
          },
          "metadata": {},
          "execution_count": 81
        }
      ]
    },
    {
      "cell_type": "code",
      "metadata": {
        "colab": {
          "base_uri": "https://localhost:8080/"
        },
        "id": "SzqJ89e_svNv",
        "outputId": "a2394836-1760-4bb8-e376-70be00acccbb"
      },
      "source": [
        "np.random.rand(5)         # 실행시마다 결과가 바뀜"
      ],
      "execution_count": 83,
      "outputs": [
        {
          "output_type": "execute_result",
          "data": {
            "text/plain": [
              "array([0.79172504, 0.52889492, 0.56804456, 0.92559664, 0.07103606])"
            ]
          },
          "metadata": {},
          "execution_count": 83
        }
      ]
    },
    {
      "cell_type": "code",
      "metadata": {
        "colab": {
          "base_uri": "https://localhost:8080/"
        },
        "id": "WxaqUA9Os5G0",
        "outputId": "12ae89f1-53bf-422d-9fec-530ccfc0a38f"
      },
      "source": [
        "np.random.seed(0)         # 시드값을 설정하면 5 실행 시 결과이 정해진 대로 나옴\n",
        "np.random.rand(5)"
      ],
      "execution_count": 84,
      "outputs": [
        {
          "output_type": "execute_result",
          "data": {
            "text/plain": [
              "array([0.5488135 , 0.71518937, 0.60276338, 0.54488318, 0.4236548 ])"
            ]
          },
          "metadata": {},
          "execution_count": 84
        }
      ]
    },
    {
      "cell_type": "code",
      "metadata": {
        "colab": {
          "base_uri": "https://localhost:8080/"
        },
        "id": "6xhFTe2ItKpP",
        "outputId": "98be4110-dea9-4eb2-9193-3875add53fc9"
      },
      "source": [
        "# shuffle\n",
        "\n",
        "x = np.array([1, 2, 3, 4, 5, 6, 7, 8, 9])\n",
        "np.random.shuffle(x)\n",
        "x"
      ],
      "execution_count": 86,
      "outputs": [
        {
          "output_type": "execute_result",
          "data": {
            "text/plain": [
              "array([4, 2, 3, 9, 6, 1, 7, 8, 5])"
            ]
          },
          "metadata": {},
          "execution_count": 86
        }
      ]
    },
    {
      "cell_type": "code",
      "metadata": {
        "id": "-WM6jxVStxQa"
      },
      "source": [
        "'''\n",
        "# 데이터 샘플링 : 이미 있는 데이터 집합에서 무작위로 선택하는 것\n",
        "np.random.choice(원본데이터, size, replace=True/False, p)\n",
        "\n",
        "\n",
        "- 원본데이터 : 데이터 집합\n",
        "- size : 샘플 숫자\n",
        "- replace : True면 한 번 선택한 데이터를 다시 선택할 수 있다. \n",
        "- p : 각 데이터가 선택될 수 있는 확률"
      ],
      "execution_count": null,
      "outputs": []
    },
    {
      "cell_type": "code",
      "metadata": {
        "colab": {
          "base_uri": "https://localhost:8080/"
        },
        "id": "up1MBO53uqAU",
        "outputId": "27453678-2822-4867-adc8-198ed8fa4cd3"
      },
      "source": [
        "x = np.random.choice(5, 5, replace=False); x"
      ],
      "execution_count": 88,
      "outputs": [
        {
          "output_type": "execute_result",
          "data": {
            "text/plain": [
              "array([0, 2, 3, 4, 1])"
            ]
          },
          "metadata": {},
          "execution_count": 88
        }
      ]
    },
    {
      "cell_type": "code",
      "metadata": {
        "colab": {
          "base_uri": "https://localhost:8080/"
        },
        "id": "wvVEeivGvGx7",
        "outputId": "8036ec6f-68df-404d-8c85-25f0bf21f312"
      },
      "source": [
        "x = np.random.choice(5, 3, replace=False); x"
      ],
      "execution_count": 89,
      "outputs": [
        {
          "output_type": "execute_result",
          "data": {
            "text/plain": [
              "array([2, 3, 4])"
            ]
          },
          "metadata": {},
          "execution_count": 89
        }
      ]
    },
    {
      "cell_type": "code",
      "metadata": {
        "colab": {
          "base_uri": "https://localhost:8080/"
        },
        "id": "A6racwL3vJcM",
        "outputId": "b259c0d4-90e6-4772-847d-5bc9b7a87244"
      },
      "source": [
        "x = np.random.choice(5, 10, replace=True); x\n",
        "# replace=True로 설정하면, 데이터를 넘는 샘플 수도 뽑을 수 있게 된다.\n",
        "# replace=False이면 데이터 집합의 수를 초과하는 만큼 샘플을 뽑을 수 없음"
      ],
      "execution_count": 95,
      "outputs": [
        {
          "output_type": "execute_result",
          "data": {
            "text/plain": [
              "array([3, 0, 3, 4, 1, 2, 4, 3, 4, 4])"
            ]
          },
          "metadata": {},
          "execution_count": 95
        }
      ]
    },
    {
      "cell_type": "code",
      "metadata": {
        "colab": {
          "base_uri": "https://localhost:8080/"
        },
        "id": "AxyAP4WEwCcY",
        "outputId": "80276985-2355-4274-d406-4e6dd13dd1d5"
      },
      "source": [
        "x = np.random.choice(5, 10, replace=True, p=[0.1, 0, 0, 0.3, 0.6]); x"
      ],
      "execution_count": 100,
      "outputs": [
        {
          "output_type": "execute_result",
          "data": {
            "text/plain": [
              "array([4, 3, 3, 4, 3, 3, 3, 4, 4, 3])"
            ]
          },
          "metadata": {},
          "execution_count": 100
        }
      ]
    }
  ]
}