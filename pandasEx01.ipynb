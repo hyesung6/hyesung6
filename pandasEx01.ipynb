{
  "nbformat": 4,
  "nbformat_minor": 0,
  "metadata": {
    "colab": {
      "name": "pandasEx01.ipynb",
      "provenance": [],
      "authorship_tag": "ABX9TyM9X0nBMyfRV8mxk+0sEPwc"
    },
    "kernelspec": {
      "name": "python3",
      "display_name": "Python 3"
    },
    "language_info": {
      "name": "python"
    }
  },
  "cells": [
    {
      "cell_type": "markdown",
      "metadata": {
        "id": "1B2l1lWnIFFH"
      },
      "source": [
        "# ***Pandas***"
      ]
    },
    {
      "cell_type": "code",
      "metadata": {
        "id": "HEztXIS5FtGq"
      },
      "source": [
        "'''\n",
        "pandas : 데이터 조작 및 분석 기능을 제공하는 라이브러리\n",
        "       : csv, excel, json 등의 데이터를 읽고 원하는 데이터 형식으로 변환\n",
        "'''"
      ],
      "execution_count": null,
      "outputs": []
    },
    {
      "cell_type": "code",
      "metadata": {
        "id": "f3bAbzcpIVen"
      },
      "source": [
        "# pandas 자료 구조 : Series, DataFrame"
      ],
      "execution_count": null,
      "outputs": []
    },
    {
      "cell_type": "code",
      "metadata": {
        "id": "fynGITAYIesW"
      },
      "source": [
        "import pandas as pd\n",
        "from pandas import Series, DataFrame"
      ],
      "execution_count": 1,
      "outputs": []
    },
    {
      "cell_type": "markdown",
      "metadata": {
        "id": "OJxldli9Ip61"
      },
      "source": [
        "# ***자료구조 : Series***"
      ]
    },
    {
      "cell_type": "code",
      "metadata": {
        "colab": {
          "base_uri": "https://localhost:8080/"
        },
        "id": "SC7oR32GIoJC",
        "outputId": "811d1449-c93c-45a6-e247-ae0ffd33b182"
      },
      "source": [
        "# Series : 일차원 배열 같은 자료구조 객체\n",
        "obj = Series([3, 22, 34, 11])\n",
        "obj\n",
        "\n",
        "# 자료값과 인덱스 번호를 갖고 있으며, 따로 추출이 가능하다. (index: value)\n",
        "# [네임 : 밸류] 형태"
      ],
      "execution_count": 2,
      "outputs": [
        {
          "output_type": "execute_result",
          "data": {
            "text/plain": [
              "0     3\n",
              "1    22\n",
              "2    34\n",
              "3    11\n",
              "dtype: int64"
            ]
          },
          "metadata": {},
          "execution_count": 2
        }
      ]
    },
    {
      "cell_type": "code",
      "metadata": {
        "colab": {
          "base_uri": "https://localhost:8080/"
        },
        "id": "-9eHOuOLJhz5",
        "outputId": "8079c32d-5922-4ff0-82a7-855cf4132bdd"
      },
      "source": [
        "print(obj.values)\n",
        "print(obj.index)\n",
        "\n",
        "# 시리즈 객체는 인덱스 번호를 가지고 있으므로, 인덱싱이 가능하다"
      ],
      "execution_count": 4,
      "outputs": [
        {
          "output_type": "stream",
          "name": "stdout",
          "text": [
            "[ 3 22 34 11]\n",
            "RangeIndex(start=0, stop=4, step=1)\n"
          ]
        }
      ]
    },
    {
      "cell_type": "code",
      "metadata": {
        "colab": {
          "base_uri": "https://localhost:8080/"
        },
        "id": "CsGc-BYJJ0n6",
        "outputId": "855c3091-550b-4ac0-bfda-3824d5d8d658"
      },
      "source": [
        "# indexing\n",
        "obj[0]\n",
        "obj[[0, 1, 2]]\n",
        "\n",
        "# 열벡터 형태로 되어있는 객체이므로, \n",
        "# 시리즈를 인덱싱할 때는 입력값에 열임을 표시하는 []를 한 번 더 사용\n",
        "# ==> 인덱싱의 특징은 원본 객체에서 값을 추출해서 새로운 객체를 만들 수 있다는 점.\n",
        "# ==> 시리즈 객체에서 값을 추출해서 새로운 시리즈 객체를 만들 수 있다.\n",
        "\n",
        "# 또한, 시리즈 객체는 인덱스 번호와 값의 한 쌍으로 이루어져 있으므로,\n",
        "# 딕셔너리와 유사성이 높아 대체가 가능하다"
      ],
      "execution_count": 11,
      "outputs": [
        {
          "output_type": "execute_result",
          "data": {
            "text/plain": [
              "0     3\n",
              "1    22\n",
              "2    34\n",
              "dtype: int64"
            ]
          },
          "metadata": {},
          "execution_count": 11
        }
      ]
    },
    {
      "cell_type": "code",
      "metadata": {
        "colab": {
          "base_uri": "https://localhost:8080/"
        },
        "id": "qqrJmK7hKSr9",
        "outputId": "27e15946-067f-41c3-da91-6115d6cb5bed"
      },
      "source": [
        "# index를 지정하여 시리즈 객체 생성하기\n",
        "\n",
        "obj2 = Series([4, 5, 6, 2], index=['c', 'd', 'e', 'f'])\n",
        "obj2\n",
        "\n",
        "# 위와 같이 입력항목에 index를 지정하여 만들 수 있다."
      ],
      "execution_count": 12,
      "outputs": [
        {
          "output_type": "execute_result",
          "data": {
            "text/plain": [
              "c    4\n",
              "d    5\n",
              "e    6\n",
              "f    2\n",
              "dtype: int64"
            ]
          },
          "metadata": {},
          "execution_count": 12
        }
      ]
    },
    {
      "cell_type": "code",
      "metadata": {
        "colab": {
          "base_uri": "https://localhost:8080/"
        },
        "id": "ZfJXsFcILIwL",
        "outputId": "016c52d5-6ac1-43d3-99be-e6776af0a582"
      },
      "source": [
        "# 요소별 연산 가능\n",
        "obj2 * 2"
      ],
      "execution_count": 13,
      "outputs": [
        {
          "output_type": "execute_result",
          "data": {
            "text/plain": [
              "c     8\n",
              "d    10\n",
              "e    12\n",
              "f     4\n",
              "dtype: int64"
            ]
          },
          "metadata": {},
          "execution_count": 13
        }
      ]
    },
    {
      "cell_type": "code",
      "metadata": {
        "colab": {
          "base_uri": "https://localhost:8080/"
        },
        "id": "L6guNreZLLx9",
        "outputId": "0f3e4ab5-9777-4505-a8d2-96ed0bac8e9f"
      },
      "source": [
        "# 인덱스의 존재 여부(True/False return)\n",
        "\n",
        "print('b' in obj2)\n",
        "print('c' in obj2)"
      ],
      "execution_count": 15,
      "outputs": [
        {
          "output_type": "stream",
          "name": "stdout",
          "text": [
            "False\n",
            "True\n"
          ]
        }
      ]
    },
    {
      "cell_type": "code",
      "metadata": {
        "colab": {
          "base_uri": "https://localhost:8080/"
        },
        "id": "B_XGgi4kMCtc",
        "outputId": "992da648-684f-4716-837b-2e8026c224f8"
      },
      "source": [
        "# Series 객체 -> 딕셔너리로 대체하기\n",
        "\n",
        "data = {'kim':3400, 'hong':2000, 'kang':1000, 'lee':2400}\n",
        "obj3 = Series(data)\n",
        "obj3\n",
        "\n",
        "# 딕셔너리 객체를 시리즈 함수의 입력항목으로 넣어서 \n",
        "# 딕셔너리의 키:밸류를 시리즈 객체로 만들 수 있다."
      ],
      "execution_count": 16,
      "outputs": [
        {
          "output_type": "execute_result",
          "data": {
            "text/plain": [
              "kim     3400\n",
              "hong    2000\n",
              "kang    1000\n",
              "lee     2400\n",
              "dtype: int64"
            ]
          },
          "metadata": {},
          "execution_count": 16
        }
      ]
    },
    {
      "cell_type": "code",
      "metadata": {
        "colab": {
          "base_uri": "https://localhost:8080/"
        },
        "id": "uZ11dvOKMkgB",
        "outputId": "e010329a-2aef-4f71-fe20-7d3ba9985335"
      },
      "source": [
        "name = ['woo', 'hong', 'kang', 'lee']\n",
        "\n",
        "obj4 = Series(data, index=name)\n",
        "obj4\n",
        "\n",
        "# 원본 딕셔너리 객체에 없는 키 값을 \n",
        "# 시리즈 객체의 인덱스로 지정하려고 하면 결측치가 발생한다."
      ],
      "execution_count": 20,
      "outputs": [
        {
          "output_type": "execute_result",
          "data": {
            "text/plain": [
              "woo        NaN\n",
              "hong    2000.0\n",
              "kang    1000.0\n",
              "lee     2400.0\n",
              "dtype: float64"
            ]
          },
          "metadata": {},
          "execution_count": 20
        }
      ]
    },
    {
      "cell_type": "code",
      "metadata": {
        "colab": {
          "base_uri": "https://localhost:8080/"
        },
        "id": "V3ObqRRSNO6n",
        "outputId": "f31baf30-ac7c-443d-cd03-5d0d3e607107"
      },
      "source": [
        "# 누락된 데이터를 찾을 때 사용하는 함수 : isnull, notnull\n",
        "print(pd.isnull(obj4))         # 널이 있으면 True 반환하는 함수\n",
        "print('----------------------')\n",
        "print(pd.notnull(obj4))        # 널이 없으면 True 반환하는 함수"
      ],
      "execution_count": 22,
      "outputs": [
        {
          "output_type": "stream",
          "name": "stdout",
          "text": [
            "woo      True\n",
            "hong    False\n",
            "kang    False\n",
            "lee     False\n",
            "dtype: bool\n",
            "----------------------\n",
            "woo     False\n",
            "hong     True\n",
            "kang     True\n",
            "lee      True\n",
            "dtype: bool\n"
          ]
        }
      ]
    },
    {
      "cell_type": "code",
      "metadata": {
        "colab": {
          "base_uri": "https://localhost:8080/"
        },
        "id": "_8p8SsDdOFbE",
        "outputId": "25fb4b9c-bf7b-48f9-9e52-92e8ca5260e2"
      },
      "source": [
        "# Series 정리\n",
        "data = {'Seoul':4000, 'Busan':2000, 'Incheon':1500, 'Gwangju':1000}\n",
        "\n",
        "obj = Series(data)\n",
        "print(obj)\n",
        "\n",
        "print('-'*30)\n",
        "\n",
        "cities = ['Seoul', 'Daegu', 'Incheon', 'Gwangju']\n",
        "obj2 = Series(data, index=cities)\n",
        "print(obj2)\n",
        "\n",
        "print('-'*30)\n",
        "\n",
        "print(obj + obj2)\n",
        "# NaN은 연산이 안 됨"
      ],
      "execution_count": 26,
      "outputs": [
        {
          "output_type": "stream",
          "name": "stdout",
          "text": [
            "Seoul      4000\n",
            "Busan      2000\n",
            "Incheon    1500\n",
            "Gwangju    1000\n",
            "dtype: int64\n",
            "------------------------------\n",
            "Seoul      4000.0\n",
            "Daegu         NaN\n",
            "Incheon    1500.0\n",
            "Gwangju    1000.0\n",
            "dtype: float64\n",
            "------------------------------\n",
            "Busan         NaN\n",
            "Daegu         NaN\n",
            "Gwangju    2000.0\n",
            "Incheon    3000.0\n",
            "Seoul      8000.0\n",
            "dtype: float64\n"
          ]
        }
      ]
    },
    {
      "cell_type": "code",
      "metadata": {
        "colab": {
          "base_uri": "https://localhost:8080/"
        },
        "id": "eD7yknrnP5Pp",
        "outputId": "345144d2-a46e-4d5f-be03-bfc7c6effc38"
      },
      "source": [
        "# Series 객체와 Series의 색인(index)은 모두 name 속성이 있음\n",
        "\n",
        "obj2.name = '인구수'\n",
        "print(obj2)\n",
        "\n",
        "print('-'*30)\n",
        "\n",
        "obj2.index.name = '도시'\n",
        "print(obj2)"
      ],
      "execution_count": 29,
      "outputs": [
        {
          "output_type": "stream",
          "name": "stdout",
          "text": [
            "Seoul      4000.0\n",
            "Daegu         NaN\n",
            "Incheon    1500.0\n",
            "Gwangju    1000.0\n",
            "Name: 인구수, dtype: float64\n",
            "------------------------------\n",
            "도시\n",
            "Seoul      4000.0\n",
            "Daegu         NaN\n",
            "Incheon    1500.0\n",
            "Gwangju    1000.0\n",
            "Name: 인구수, dtype: float64\n"
          ]
        }
      ]
    },
    {
      "cell_type": "code",
      "metadata": {
        "colab": {
          "base_uri": "https://localhost:8080/"
        },
        "id": "chpK2taiQaKh",
        "outputId": "ec63999e-8bdb-43e6-c8f3-9b4cb34aed74"
      },
      "source": [
        "# Series 색인(index)을 바로 변경하기\n",
        "obj2.index = ['Daejeon', 'Busan', 'Jaeju', 'Jeonju']\n",
        "obj2"
      ],
      "execution_count": 30,
      "outputs": [
        {
          "output_type": "execute_result",
          "data": {
            "text/plain": [
              "Daejeon    4000.0\n",
              "Busan         NaN\n",
              "Jaeju      1500.0\n",
              "Jeonju     1000.0\n",
              "Name: 인구수, dtype: float64"
            ]
          },
          "metadata": {},
          "execution_count": 30
        }
      ]
    },
    {
      "cell_type": "markdown",
      "metadata": {
        "id": "94jPimOHUjT6"
      },
      "source": [
        "# ***자료구조 : DataFrame***"
      ]
    },
    {
      "cell_type": "code",
      "metadata": {
        "id": "MEBb5PwqUnGb"
      },
      "source": [
        "# DataFrame : 2차원리스트(2차원배열) 같은 자료구조 객체\n",
        "# 열벡터 형태의 Series가 좌우로 연결된 형태임"
      ],
      "execution_count": null,
      "outputs": []
    },
    {
      "cell_type": "code",
      "metadata": {
        "colab": {
          "base_uri": "https://localhost:8080/"
        },
        "id": "uf9oyFMvUsiP",
        "outputId": "f92b23ac-e127-4e3a-da66-170057d92095"
      },
      "source": [
        "# DataFrame 객체 생성\n",
        "\n",
        "x = pd.DataFrame([\n",
        "    [1, 2, 3],\n",
        "    [4, 5, 6],\n",
        "    [7, 8, 9]                        \n",
        "])\n",
        "print(x)"
      ],
      "execution_count": 33,
      "outputs": [
        {
          "output_type": "stream",
          "name": "stdout",
          "text": [
            "   0  1  2\n",
            "0  1  2  3\n",
            "1  4  5  6\n",
            "2  7  8  9\n"
          ]
        }
      ]
    },
    {
      "cell_type": "code",
      "metadata": {
        "colab": {
          "base_uri": "https://localhost:8080/",
          "height": 173
        },
        "id": "hiEuAcA_VYgA",
        "outputId": "66e25eb9-04ce-4c5c-c2cc-0fd16abbdb20"
      },
      "source": [
        "# 데이터프레임도 딕셔너리로 생성 가능\n",
        "\n",
        "data = {\n",
        "        'city': ['서울', '부산', '광주', '대구'],\n",
        "        'year': [2000, 2001, 2002, 2002],\n",
        "        'pop' : [4000, 2000, 1000, 1000]\n",
        "        }\n",
        "\n",
        "df = pd.DataFrame(data)\n",
        "df\n",
        "\n",
        "# 딕셔너리를 데이터프레임으로 만들 경우, 키 값이 속성(Atribute)가 된다."
      ],
      "execution_count": 41,
      "outputs": [
        {
          "output_type": "execute_result",
          "data": {
            "text/html": [
              "<div>\n",
              "<style scoped>\n",
              "    .dataframe tbody tr th:only-of-type {\n",
              "        vertical-align: middle;\n",
              "    }\n",
              "\n",
              "    .dataframe tbody tr th {\n",
              "        vertical-align: top;\n",
              "    }\n",
              "\n",
              "    .dataframe thead th {\n",
              "        text-align: right;\n",
              "    }\n",
              "</style>\n",
              "<table border=\"1\" class=\"dataframe\">\n",
              "  <thead>\n",
              "    <tr style=\"text-align: right;\">\n",
              "      <th></th>\n",
              "      <th>city</th>\n",
              "      <th>year</th>\n",
              "      <th>pop</th>\n",
              "    </tr>\n",
              "  </thead>\n",
              "  <tbody>\n",
              "    <tr>\n",
              "      <th>0</th>\n",
              "      <td>서울</td>\n",
              "      <td>2000</td>\n",
              "      <td>4000</td>\n",
              "    </tr>\n",
              "    <tr>\n",
              "      <th>1</th>\n",
              "      <td>부산</td>\n",
              "      <td>2001</td>\n",
              "      <td>2000</td>\n",
              "    </tr>\n",
              "    <tr>\n",
              "      <th>2</th>\n",
              "      <td>광주</td>\n",
              "      <td>2002</td>\n",
              "      <td>1000</td>\n",
              "    </tr>\n",
              "    <tr>\n",
              "      <th>3</th>\n",
              "      <td>대구</td>\n",
              "      <td>2002</td>\n",
              "      <td>1000</td>\n",
              "    </tr>\n",
              "  </tbody>\n",
              "</table>\n",
              "</div>"
            ],
            "text/plain": [
              "  city  year   pop\n",
              "0   서울  2000  4000\n",
              "1   부산  2001  2000\n",
              "2   광주  2002  1000\n",
              "3   대구  2002  1000"
            ]
          },
          "metadata": {},
          "execution_count": 41
        }
      ]
    },
    {
      "cell_type": "code",
      "metadata": {
        "colab": {
          "base_uri": "https://localhost:8080/",
          "height": 173
        },
        "id": "CifUJLlGWblb",
        "outputId": "cc1626a5-6ee8-4ed5-a137-78a416450559"
      },
      "source": [
        "# 컬럼 순서 변경\n",
        "df = DataFrame(data, columns=['year', 'city', 'pop'])\n",
        "df"
      ],
      "execution_count": 39,
      "outputs": [
        {
          "output_type": "execute_result",
          "data": {
            "text/html": [
              "<div>\n",
              "<style scoped>\n",
              "    .dataframe tbody tr th:only-of-type {\n",
              "        vertical-align: middle;\n",
              "    }\n",
              "\n",
              "    .dataframe tbody tr th {\n",
              "        vertical-align: top;\n",
              "    }\n",
              "\n",
              "    .dataframe thead th {\n",
              "        text-align: right;\n",
              "    }\n",
              "</style>\n",
              "<table border=\"1\" class=\"dataframe\">\n",
              "  <thead>\n",
              "    <tr style=\"text-align: right;\">\n",
              "      <th></th>\n",
              "      <th>year</th>\n",
              "      <th>city</th>\n",
              "      <th>pop</th>\n",
              "    </tr>\n",
              "  </thead>\n",
              "  <tbody>\n",
              "    <tr>\n",
              "      <th>0</th>\n",
              "      <td>2000</td>\n",
              "      <td>서울</td>\n",
              "      <td>4000</td>\n",
              "    </tr>\n",
              "    <tr>\n",
              "      <th>1</th>\n",
              "      <td>2001</td>\n",
              "      <td>부산</td>\n",
              "      <td>2000</td>\n",
              "    </tr>\n",
              "    <tr>\n",
              "      <th>2</th>\n",
              "      <td>2002</td>\n",
              "      <td>광주</td>\n",
              "      <td>1000</td>\n",
              "    </tr>\n",
              "    <tr>\n",
              "      <th>3</th>\n",
              "      <td>2002</td>\n",
              "      <td>대구</td>\n",
              "      <td>1000</td>\n",
              "    </tr>\n",
              "  </tbody>\n",
              "</table>\n",
              "</div>"
            ],
            "text/plain": [
              "   year city   pop\n",
              "0  2000   서울  4000\n",
              "1  2001   부산  2000\n",
              "2  2002   광주  1000\n",
              "3  2002   대구  1000"
            ]
          },
          "metadata": {},
          "execution_count": 39
        }
      ]
    },
    {
      "cell_type": "code",
      "metadata": {
        "colab": {
          "base_uri": "https://localhost:8080/",
          "height": 173
        },
        "id": "BuUJwREzWvQa",
        "outputId": "822d3fd0-6033-4069-cc96-84a187fb6fa9"
      },
      "source": [
        "# 인덱스 변경/추가\n",
        "df2 = DataFrame(data, columns=['year', 'city', 'pop', 'debt'], index=['one', 'two', 'three', 'four'])\n",
        "df2"
      ],
      "execution_count": 45,
      "outputs": [
        {
          "output_type": "execute_result",
          "data": {
            "text/html": [
              "<div>\n",
              "<style scoped>\n",
              "    .dataframe tbody tr th:only-of-type {\n",
              "        vertical-align: middle;\n",
              "    }\n",
              "\n",
              "    .dataframe tbody tr th {\n",
              "        vertical-align: top;\n",
              "    }\n",
              "\n",
              "    .dataframe thead th {\n",
              "        text-align: right;\n",
              "    }\n",
              "</style>\n",
              "<table border=\"1\" class=\"dataframe\">\n",
              "  <thead>\n",
              "    <tr style=\"text-align: right;\">\n",
              "      <th></th>\n",
              "      <th>year</th>\n",
              "      <th>city</th>\n",
              "      <th>pop</th>\n",
              "      <th>debt</th>\n",
              "    </tr>\n",
              "  </thead>\n",
              "  <tbody>\n",
              "    <tr>\n",
              "      <th>one</th>\n",
              "      <td>2000</td>\n",
              "      <td>서울</td>\n",
              "      <td>4000</td>\n",
              "      <td>NaN</td>\n",
              "    </tr>\n",
              "    <tr>\n",
              "      <th>two</th>\n",
              "      <td>2001</td>\n",
              "      <td>부산</td>\n",
              "      <td>2000</td>\n",
              "      <td>NaN</td>\n",
              "    </tr>\n",
              "    <tr>\n",
              "      <th>three</th>\n",
              "      <td>2002</td>\n",
              "      <td>광주</td>\n",
              "      <td>1000</td>\n",
              "      <td>NaN</td>\n",
              "    </tr>\n",
              "    <tr>\n",
              "      <th>four</th>\n",
              "      <td>2002</td>\n",
              "      <td>대구</td>\n",
              "      <td>1000</td>\n",
              "      <td>NaN</td>\n",
              "    </tr>\n",
              "  </tbody>\n",
              "</table>\n",
              "</div>"
            ],
            "text/plain": [
              "       year city   pop debt\n",
              "one    2000   서울  4000  NaN\n",
              "two    2001   부산  2000  NaN\n",
              "three  2002   광주  1000  NaN\n",
              "four   2002   대구  1000  NaN"
            ]
          },
          "metadata": {},
          "execution_count": 45
        }
      ]
    },
    {
      "cell_type": "code",
      "metadata": {
        "colab": {
          "base_uri": "https://localhost:8080/"
        },
        "id": "Qzylhio4XahP",
        "outputId": "18e42a9d-c6ce-425a-bc72-f298b29c1c4b"
      },
      "source": [
        "# 데이터프레임 인덱싱\n",
        "# Pandas의 인덱싱은 인덱스 번호로 찾는 것이 아닌,\n",
        "# 컬럼 이름으로 찾음\n",
        "\n",
        "print(df2['pop'])\n",
        "print('-'*30)\n",
        "print(type(df2['pop']))\n",
        "\n",
        "# 컬럼 이름으로 인덱싱을 하면, 열 전체를 반환해주기 때문에 \n",
        "# 요소 별로 찾고 싶으면 다른 방법을 이용한다"
      ],
      "execution_count": 51,
      "outputs": [
        {
          "output_type": "stream",
          "name": "stdout",
          "text": [
            "one      4000\n",
            "two      2000\n",
            "three    1000\n",
            "four     1000\n",
            "Name: pop, dtype: int64\n",
            "------------------------------\n",
            "<class 'pandas.core.series.Series'>\n"
          ]
        }
      ]
    },
    {
      "cell_type": "code",
      "metadata": {
        "colab": {
          "base_uri": "https://localhost:8080/"
        },
        "id": "FFaYrfvxYkVq",
        "outputId": "c231328e-d8b3-434f-a923-ececb669bfcb"
      },
      "source": [
        "# 요소 접근 (columns/index)\n",
        "\n",
        "print(df2.columns)\n",
        "print('-'*30)\n",
        "print(df2.index)"
      ],
      "execution_count": 52,
      "outputs": [
        {
          "output_type": "stream",
          "name": "stdout",
          "text": [
            "Index(['year', 'city', 'pop', 'debt'], dtype='object')\n",
            "------------------------------\n",
            "Index(['one', 'two', 'three', 'four'], dtype='object')\n"
          ]
        }
      ]
    },
    {
      "cell_type": "code",
      "metadata": {
        "colab": {
          "base_uri": "https://localhost:8080/"
        },
        "id": "TClG4aK5ZZo1",
        "outputId": "5e2e66dd-4ce1-4b85-f9f5-1f6ac0b288f4"
      },
      "source": [
        "# 행 단위로 접근하기\n",
        "\n",
        "print(df2.loc['three'])\n",
        "\n",
        "# loc함수를 사용하여 행 단위로 값을 반환받을 수 있지만,\n",
        "# 기본적으로 Pandas, Numpy등에서는 열벡터 객체를 많이 사용하므로\n",
        "# 열벡터 폼으로 반환해준다. \n",
        "# loc함수는 : 인덱스 기준으로 인덱싱"
      ],
      "execution_count": 53,
      "outputs": [
        {
          "output_type": "stream",
          "name": "stdout",
          "text": [
            "year    2002\n",
            "city      광주\n",
            "pop     1000\n",
            "debt     NaN\n",
            "Name: three, dtype: object\n"
          ]
        }
      ]
    },
    {
      "cell_type": "code",
      "metadata": {
        "colab": {
          "base_uri": "https://localhost:8080/"
        },
        "id": "sMpSuVSFZ5Hl",
        "outputId": "a5bb6571-a519-4099-ca38-878b39380dde"
      },
      "source": [
        "# iloc함수는 : 행 번호를 기준으로\n",
        "\n",
        "print(df2.iloc[2])"
      ],
      "execution_count": 58,
      "outputs": [
        {
          "output_type": "stream",
          "name": "stdout",
          "text": [
            "year    2002\n",
            "city      광주\n",
            "pop     1000\n",
            "debt     NaN\n",
            "Name: three, dtype: object\n"
          ]
        }
      ]
    },
    {
      "cell_type": "code",
      "metadata": {
        "colab": {
          "base_uri": "https://localhost:8080/",
          "height": 173
        },
        "id": "oDSL8zDVaZ_4",
        "outputId": "2048595b-c4b8-460f-816e-8fb3be50ead4"
      },
      "source": [
        "# 값 삽입\n",
        "\n",
        "df2['debt'] = 1000\n",
        "df2"
      ],
      "execution_count": 60,
      "outputs": [
        {
          "output_type": "execute_result",
          "data": {
            "text/html": [
              "<div>\n",
              "<style scoped>\n",
              "    .dataframe tbody tr th:only-of-type {\n",
              "        vertical-align: middle;\n",
              "    }\n",
              "\n",
              "    .dataframe tbody tr th {\n",
              "        vertical-align: top;\n",
              "    }\n",
              "\n",
              "    .dataframe thead th {\n",
              "        text-align: right;\n",
              "    }\n",
              "</style>\n",
              "<table border=\"1\" class=\"dataframe\">\n",
              "  <thead>\n",
              "    <tr style=\"text-align: right;\">\n",
              "      <th></th>\n",
              "      <th>year</th>\n",
              "      <th>city</th>\n",
              "      <th>pop</th>\n",
              "      <th>debt</th>\n",
              "    </tr>\n",
              "  </thead>\n",
              "  <tbody>\n",
              "    <tr>\n",
              "      <th>one</th>\n",
              "      <td>2000</td>\n",
              "      <td>서울</td>\n",
              "      <td>4000</td>\n",
              "      <td>1000</td>\n",
              "    </tr>\n",
              "    <tr>\n",
              "      <th>two</th>\n",
              "      <td>2001</td>\n",
              "      <td>부산</td>\n",
              "      <td>2000</td>\n",
              "      <td>1000</td>\n",
              "    </tr>\n",
              "    <tr>\n",
              "      <th>three</th>\n",
              "      <td>2002</td>\n",
              "      <td>광주</td>\n",
              "      <td>1000</td>\n",
              "      <td>1000</td>\n",
              "    </tr>\n",
              "    <tr>\n",
              "      <th>four</th>\n",
              "      <td>2002</td>\n",
              "      <td>대구</td>\n",
              "      <td>1000</td>\n",
              "      <td>1000</td>\n",
              "    </tr>\n",
              "  </tbody>\n",
              "</table>\n",
              "</div>"
            ],
            "text/plain": [
              "       year city   pop  debt\n",
              "one    2000   서울  4000  1000\n",
              "two    2001   부산  2000  1000\n",
              "three  2002   광주  1000  1000\n",
              "four   2002   대구  1000  1000"
            ]
          },
          "metadata": {},
          "execution_count": 60
        }
      ]
    },
    {
      "cell_type": "code",
      "metadata": {
        "colab": {
          "base_uri": "https://localhost:8080/",
          "height": 173
        },
        "id": "LMs8Fa_ga-xC",
        "outputId": "8a57907c-083e-4290-8bc3-ebb0dd9e776c"
      },
      "source": [
        "# 연속된 값 삽입\n",
        "\n",
        "df2['debt'] = [0, 1, 2, 3]\n",
        "df2"
      ],
      "execution_count": 61,
      "outputs": [
        {
          "output_type": "execute_result",
          "data": {
            "text/html": [
              "<div>\n",
              "<style scoped>\n",
              "    .dataframe tbody tr th:only-of-type {\n",
              "        vertical-align: middle;\n",
              "    }\n",
              "\n",
              "    .dataframe tbody tr th {\n",
              "        vertical-align: top;\n",
              "    }\n",
              "\n",
              "    .dataframe thead th {\n",
              "        text-align: right;\n",
              "    }\n",
              "</style>\n",
              "<table border=\"1\" class=\"dataframe\">\n",
              "  <thead>\n",
              "    <tr style=\"text-align: right;\">\n",
              "      <th></th>\n",
              "      <th>year</th>\n",
              "      <th>city</th>\n",
              "      <th>pop</th>\n",
              "      <th>debt</th>\n",
              "    </tr>\n",
              "  </thead>\n",
              "  <tbody>\n",
              "    <tr>\n",
              "      <th>one</th>\n",
              "      <td>2000</td>\n",
              "      <td>서울</td>\n",
              "      <td>4000</td>\n",
              "      <td>0</td>\n",
              "    </tr>\n",
              "    <tr>\n",
              "      <th>two</th>\n",
              "      <td>2001</td>\n",
              "      <td>부산</td>\n",
              "      <td>2000</td>\n",
              "      <td>1</td>\n",
              "    </tr>\n",
              "    <tr>\n",
              "      <th>three</th>\n",
              "      <td>2002</td>\n",
              "      <td>광주</td>\n",
              "      <td>1000</td>\n",
              "      <td>2</td>\n",
              "    </tr>\n",
              "    <tr>\n",
              "      <th>four</th>\n",
              "      <td>2002</td>\n",
              "      <td>대구</td>\n",
              "      <td>1000</td>\n",
              "      <td>3</td>\n",
              "    </tr>\n",
              "  </tbody>\n",
              "</table>\n",
              "</div>"
            ],
            "text/plain": [
              "       year city   pop  debt\n",
              "one    2000   서울  4000     0\n",
              "two    2001   부산  2000     1\n",
              "three  2002   광주  1000     2\n",
              "four   2002   대구  1000     3"
            ]
          },
          "metadata": {},
          "execution_count": 61
        }
      ]
    },
    {
      "cell_type": "code",
      "metadata": {
        "colab": {
          "base_uri": "https://localhost:8080/",
          "height": 173
        },
        "id": "I0yP4Bz8cKeH",
        "outputId": "5e498e26-4cb1-4413-c8a1-1665808e1616"
      },
      "source": [
        "# 수많은 연속된 값 삽입\n",
        "\n",
        "import numpy as np\n",
        "\n",
        "df2['debt'] = np.arange(4)\n",
        "df2\n",
        "\n",
        "...\n",
        "\n",
        "# 열의 길이만큼 np.arange()를 사용해서 넣을 수 있다."
      ],
      "execution_count": 63,
      "outputs": [
        {
          "output_type": "execute_result",
          "data": {
            "text/html": [
              "<div>\n",
              "<style scoped>\n",
              "    .dataframe tbody tr th:only-of-type {\n",
              "        vertical-align: middle;\n",
              "    }\n",
              "\n",
              "    .dataframe tbody tr th {\n",
              "        vertical-align: top;\n",
              "    }\n",
              "\n",
              "    .dataframe thead th {\n",
              "        text-align: right;\n",
              "    }\n",
              "</style>\n",
              "<table border=\"1\" class=\"dataframe\">\n",
              "  <thead>\n",
              "    <tr style=\"text-align: right;\">\n",
              "      <th></th>\n",
              "      <th>year</th>\n",
              "      <th>city</th>\n",
              "      <th>pop</th>\n",
              "      <th>debt</th>\n",
              "    </tr>\n",
              "  </thead>\n",
              "  <tbody>\n",
              "    <tr>\n",
              "      <th>one</th>\n",
              "      <td>2000</td>\n",
              "      <td>서울</td>\n",
              "      <td>4000</td>\n",
              "      <td>0</td>\n",
              "    </tr>\n",
              "    <tr>\n",
              "      <th>two</th>\n",
              "      <td>2001</td>\n",
              "      <td>부산</td>\n",
              "      <td>2000</td>\n",
              "      <td>1</td>\n",
              "    </tr>\n",
              "    <tr>\n",
              "      <th>three</th>\n",
              "      <td>2002</td>\n",
              "      <td>광주</td>\n",
              "      <td>1000</td>\n",
              "      <td>2</td>\n",
              "    </tr>\n",
              "    <tr>\n",
              "      <th>four</th>\n",
              "      <td>2002</td>\n",
              "      <td>대구</td>\n",
              "      <td>1000</td>\n",
              "      <td>3</td>\n",
              "    </tr>\n",
              "  </tbody>\n",
              "</table>\n",
              "</div>"
            ],
            "text/plain": [
              "       year city   pop  debt\n",
              "one    2000   서울  4000     0\n",
              "two    2001   부산  2000     1\n",
              "three  2002   광주  1000     2\n",
              "four   2002   대구  1000     3"
            ]
          },
          "metadata": {},
          "execution_count": 63
        }
      ]
    },
    {
      "cell_type": "code",
      "metadata": {
        "colab": {
          "base_uri": "https://localhost:8080/",
          "height": 173
        },
        "id": "VJWoA9BCcpDv",
        "outputId": "9b4b11ed-a91c-4be1-cb05-8ae605960cd5"
      },
      "source": [
        "# Series 객체를 이용하여 값 삽입\n",
        "\n",
        "val = Series([1000, 2000, 3000, 4000], index=['one', 'two', 'three', 'four'])\n",
        "\n",
        "df2['debt'] = val\n",
        "df2\n",
        "\n",
        "# 원본 데이터프레임과 인덱스 번호가 같아야 한다."
      ],
      "execution_count": 64,
      "outputs": [
        {
          "output_type": "execute_result",
          "data": {
            "text/html": [
              "<div>\n",
              "<style scoped>\n",
              "    .dataframe tbody tr th:only-of-type {\n",
              "        vertical-align: middle;\n",
              "    }\n",
              "\n",
              "    .dataframe tbody tr th {\n",
              "        vertical-align: top;\n",
              "    }\n",
              "\n",
              "    .dataframe thead th {\n",
              "        text-align: right;\n",
              "    }\n",
              "</style>\n",
              "<table border=\"1\" class=\"dataframe\">\n",
              "  <thead>\n",
              "    <tr style=\"text-align: right;\">\n",
              "      <th></th>\n",
              "      <th>year</th>\n",
              "      <th>city</th>\n",
              "      <th>pop</th>\n",
              "      <th>debt</th>\n",
              "    </tr>\n",
              "  </thead>\n",
              "  <tbody>\n",
              "    <tr>\n",
              "      <th>one</th>\n",
              "      <td>2000</td>\n",
              "      <td>서울</td>\n",
              "      <td>4000</td>\n",
              "      <td>1000</td>\n",
              "    </tr>\n",
              "    <tr>\n",
              "      <th>two</th>\n",
              "      <td>2001</td>\n",
              "      <td>부산</td>\n",
              "      <td>2000</td>\n",
              "      <td>2000</td>\n",
              "    </tr>\n",
              "    <tr>\n",
              "      <th>three</th>\n",
              "      <td>2002</td>\n",
              "      <td>광주</td>\n",
              "      <td>1000</td>\n",
              "      <td>3000</td>\n",
              "    </tr>\n",
              "    <tr>\n",
              "      <th>four</th>\n",
              "      <td>2002</td>\n",
              "      <td>대구</td>\n",
              "      <td>1000</td>\n",
              "      <td>4000</td>\n",
              "    </tr>\n",
              "  </tbody>\n",
              "</table>\n",
              "</div>"
            ],
            "text/plain": [
              "       year city   pop  debt\n",
              "one    2000   서울  4000  1000\n",
              "two    2001   부산  2000  2000\n",
              "three  2002   광주  1000  3000\n",
              "four   2002   대구  1000  4000"
            ]
          },
          "metadata": {},
          "execution_count": 64
        }
      ]
    },
    {
      "cell_type": "code",
      "metadata": {
        "colab": {
          "base_uri": "https://localhost:8080/",
          "height": 173
        },
        "id": "Ku_aZUP3dZM0",
        "outputId": "db22e669-abea-421b-cb44-91702683458a"
      },
      "source": [
        "# Series 객체를 이용하여 값 삽입\n",
        "# index 일부만 지정해서, 지정된 부분에만 값 삽입하기\n",
        "\n",
        "val = Series([1000, 3000, 4000], index=['one', 'three', 'four'])\n",
        "df2['debt'] = val\n",
        "df2"
      ],
      "execution_count": 66,
      "outputs": [
        {
          "output_type": "execute_result",
          "data": {
            "text/html": [
              "<div>\n",
              "<style scoped>\n",
              "    .dataframe tbody tr th:only-of-type {\n",
              "        vertical-align: middle;\n",
              "    }\n",
              "\n",
              "    .dataframe tbody tr th {\n",
              "        vertical-align: top;\n",
              "    }\n",
              "\n",
              "    .dataframe thead th {\n",
              "        text-align: right;\n",
              "    }\n",
              "</style>\n",
              "<table border=\"1\" class=\"dataframe\">\n",
              "  <thead>\n",
              "    <tr style=\"text-align: right;\">\n",
              "      <th></th>\n",
              "      <th>year</th>\n",
              "      <th>city</th>\n",
              "      <th>pop</th>\n",
              "      <th>debt</th>\n",
              "    </tr>\n",
              "  </thead>\n",
              "  <tbody>\n",
              "    <tr>\n",
              "      <th>one</th>\n",
              "      <td>2000</td>\n",
              "      <td>서울</td>\n",
              "      <td>4000</td>\n",
              "      <td>1000.0</td>\n",
              "    </tr>\n",
              "    <tr>\n",
              "      <th>two</th>\n",
              "      <td>2001</td>\n",
              "      <td>부산</td>\n",
              "      <td>2000</td>\n",
              "      <td>NaN</td>\n",
              "    </tr>\n",
              "    <tr>\n",
              "      <th>three</th>\n",
              "      <td>2002</td>\n",
              "      <td>광주</td>\n",
              "      <td>1000</td>\n",
              "      <td>3000.0</td>\n",
              "    </tr>\n",
              "    <tr>\n",
              "      <th>four</th>\n",
              "      <td>2002</td>\n",
              "      <td>대구</td>\n",
              "      <td>1000</td>\n",
              "      <td>4000.0</td>\n",
              "    </tr>\n",
              "  </tbody>\n",
              "</table>\n",
              "</div>"
            ],
            "text/plain": [
              "       year city   pop    debt\n",
              "one    2000   서울  4000  1000.0\n",
              "two    2001   부산  2000     NaN\n",
              "three  2002   광주  1000  3000.0\n",
              "four   2002   대구  1000  4000.0"
            ]
          },
          "metadata": {},
          "execution_count": 66
        }
      ]
    },
    {
      "cell_type": "code",
      "metadata": {
        "colab": {
          "base_uri": "https://localhost:8080/",
          "height": 173
        },
        "id": "RG_R1ZQJd5X9",
        "outputId": "57a4af87-fb38-4442-d3e0-e18185c8b334"
      },
      "source": [
        "# 컬럼 추가하면서 True/False 삽입\n",
        "\n",
        "df2['cap'] = df2.city == '서울'\n",
        "df2"
      ],
      "execution_count": 68,
      "outputs": [
        {
          "output_type": "execute_result",
          "data": {
            "text/html": [
              "<div>\n",
              "<style scoped>\n",
              "    .dataframe tbody tr th:only-of-type {\n",
              "        vertical-align: middle;\n",
              "    }\n",
              "\n",
              "    .dataframe tbody tr th {\n",
              "        vertical-align: top;\n",
              "    }\n",
              "\n",
              "    .dataframe thead th {\n",
              "        text-align: right;\n",
              "    }\n",
              "</style>\n",
              "<table border=\"1\" class=\"dataframe\">\n",
              "  <thead>\n",
              "    <tr style=\"text-align: right;\">\n",
              "      <th></th>\n",
              "      <th>year</th>\n",
              "      <th>city</th>\n",
              "      <th>pop</th>\n",
              "      <th>debt</th>\n",
              "      <th>cap</th>\n",
              "    </tr>\n",
              "  </thead>\n",
              "  <tbody>\n",
              "    <tr>\n",
              "      <th>one</th>\n",
              "      <td>2000</td>\n",
              "      <td>서울</td>\n",
              "      <td>4000</td>\n",
              "      <td>1000.0</td>\n",
              "      <td>True</td>\n",
              "    </tr>\n",
              "    <tr>\n",
              "      <th>two</th>\n",
              "      <td>2001</td>\n",
              "      <td>부산</td>\n",
              "      <td>2000</td>\n",
              "      <td>NaN</td>\n",
              "      <td>False</td>\n",
              "    </tr>\n",
              "    <tr>\n",
              "      <th>three</th>\n",
              "      <td>2002</td>\n",
              "      <td>광주</td>\n",
              "      <td>1000</td>\n",
              "      <td>3000.0</td>\n",
              "      <td>False</td>\n",
              "    </tr>\n",
              "    <tr>\n",
              "      <th>four</th>\n",
              "      <td>2002</td>\n",
              "      <td>대구</td>\n",
              "      <td>1000</td>\n",
              "      <td>4000.0</td>\n",
              "      <td>False</td>\n",
              "    </tr>\n",
              "  </tbody>\n",
              "</table>\n",
              "</div>"
            ],
            "text/plain": [
              "       year city   pop    debt    cap\n",
              "one    2000   서울  4000  1000.0   True\n",
              "two    2001   부산  2000     NaN  False\n",
              "three  2002   광주  1000  3000.0  False\n",
              "four   2002   대구  1000  4000.0  False"
            ]
          },
          "metadata": {},
          "execution_count": 68
        }
      ]
    },
    {
      "cell_type": "code",
      "metadata": {
        "colab": {
          "base_uri": "https://localhost:8080/",
          "height": 173
        },
        "id": "ey2K-WKiihXb",
        "outputId": "a61213f0-82cb-4819-9f38-4c8120085512"
      },
      "source": [
        "# 컬럼 삭제\n",
        "del df2['cap']\n",
        "\n",
        "df2"
      ],
      "execution_count": 69,
      "outputs": [
        {
          "output_type": "execute_result",
          "data": {
            "text/html": [
              "<div>\n",
              "<style scoped>\n",
              "    .dataframe tbody tr th:only-of-type {\n",
              "        vertical-align: middle;\n",
              "    }\n",
              "\n",
              "    .dataframe tbody tr th {\n",
              "        vertical-align: top;\n",
              "    }\n",
              "\n",
              "    .dataframe thead th {\n",
              "        text-align: right;\n",
              "    }\n",
              "</style>\n",
              "<table border=\"1\" class=\"dataframe\">\n",
              "  <thead>\n",
              "    <tr style=\"text-align: right;\">\n",
              "      <th></th>\n",
              "      <th>year</th>\n",
              "      <th>city</th>\n",
              "      <th>pop</th>\n",
              "      <th>debt</th>\n",
              "    </tr>\n",
              "  </thead>\n",
              "  <tbody>\n",
              "    <tr>\n",
              "      <th>one</th>\n",
              "      <td>2000</td>\n",
              "      <td>서울</td>\n",
              "      <td>4000</td>\n",
              "      <td>1000.0</td>\n",
              "    </tr>\n",
              "    <tr>\n",
              "      <th>two</th>\n",
              "      <td>2001</td>\n",
              "      <td>부산</td>\n",
              "      <td>2000</td>\n",
              "      <td>NaN</td>\n",
              "    </tr>\n",
              "    <tr>\n",
              "      <th>three</th>\n",
              "      <td>2002</td>\n",
              "      <td>광주</td>\n",
              "      <td>1000</td>\n",
              "      <td>3000.0</td>\n",
              "    </tr>\n",
              "    <tr>\n",
              "      <th>four</th>\n",
              "      <td>2002</td>\n",
              "      <td>대구</td>\n",
              "      <td>1000</td>\n",
              "      <td>4000.0</td>\n",
              "    </tr>\n",
              "  </tbody>\n",
              "</table>\n",
              "</div>"
            ],
            "text/plain": [
              "       year city   pop    debt\n",
              "one    2000   서울  4000  1000.0\n",
              "two    2001   부산  2000     NaN\n",
              "three  2002   광주  1000  3000.0\n",
              "four   2002   대구  1000  4000.0"
            ]
          },
          "metadata": {},
          "execution_count": 69
        }
      ]
    },
    {
      "cell_type": "code",
      "metadata": {
        "colab": {
          "base_uri": "https://localhost:8080/",
          "height": 173
        },
        "id": "_pQsuqkwinHL",
        "outputId": "3b6c0889-0809-4051-c76e-186d5f5a4891"
      },
      "source": [
        "# 전치행렬\n",
        "df2.T\n",
        "\n",
        "# 행 <> 열 변환"
      ],
      "execution_count": 70,
      "outputs": [
        {
          "output_type": "execute_result",
          "data": {
            "text/html": [
              "<div>\n",
              "<style scoped>\n",
              "    .dataframe tbody tr th:only-of-type {\n",
              "        vertical-align: middle;\n",
              "    }\n",
              "\n",
              "    .dataframe tbody tr th {\n",
              "        vertical-align: top;\n",
              "    }\n",
              "\n",
              "    .dataframe thead th {\n",
              "        text-align: right;\n",
              "    }\n",
              "</style>\n",
              "<table border=\"1\" class=\"dataframe\">\n",
              "  <thead>\n",
              "    <tr style=\"text-align: right;\">\n",
              "      <th></th>\n",
              "      <th>one</th>\n",
              "      <th>two</th>\n",
              "      <th>three</th>\n",
              "      <th>four</th>\n",
              "    </tr>\n",
              "  </thead>\n",
              "  <tbody>\n",
              "    <tr>\n",
              "      <th>year</th>\n",
              "      <td>2000</td>\n",
              "      <td>2001</td>\n",
              "      <td>2002</td>\n",
              "      <td>2002</td>\n",
              "    </tr>\n",
              "    <tr>\n",
              "      <th>city</th>\n",
              "      <td>서울</td>\n",
              "      <td>부산</td>\n",
              "      <td>광주</td>\n",
              "      <td>대구</td>\n",
              "    </tr>\n",
              "    <tr>\n",
              "      <th>pop</th>\n",
              "      <td>4000</td>\n",
              "      <td>2000</td>\n",
              "      <td>1000</td>\n",
              "      <td>1000</td>\n",
              "    </tr>\n",
              "    <tr>\n",
              "      <th>debt</th>\n",
              "      <td>1000</td>\n",
              "      <td>NaN</td>\n",
              "      <td>3000</td>\n",
              "      <td>4000</td>\n",
              "    </tr>\n",
              "  </tbody>\n",
              "</table>\n",
              "</div>"
            ],
            "text/plain": [
              "       one   two three  four\n",
              "year  2000  2001  2002  2002\n",
              "city    서울    부산    광주    대구\n",
              "pop   4000  2000  1000  1000\n",
              "debt  1000   NaN  3000  4000"
            ]
          },
          "metadata": {},
          "execution_count": 70
        }
      ]
    },
    {
      "cell_type": "code",
      "metadata": {
        "colab": {
          "base_uri": "https://localhost:8080/"
        },
        "id": "SS-r4v3UitB-",
        "outputId": "5a545463-7d99-4f66-f1c5-dfbbbb93342f"
      },
      "source": [
        "# 데이터만 추출\n",
        "\n",
        "df2.values"
      ],
      "execution_count": 71,
      "outputs": [
        {
          "output_type": "execute_result",
          "data": {
            "text/plain": [
              "array([[2000, '서울', 4000, 1000.0],\n",
              "       [2001, '부산', 2000, nan],\n",
              "       [2002, '광주', 1000, 3000.0],\n",
              "       [2002, '대구', 1000, 4000.0]], dtype=object)"
            ]
          },
          "metadata": {},
          "execution_count": 71
        }
      ]
    }
  ]
}