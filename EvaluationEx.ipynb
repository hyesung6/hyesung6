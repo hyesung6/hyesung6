{
  "nbformat": 4,
  "nbformat_minor": 5,
  "metadata": {
    "kernelspec": {
      "display_name": "Python 3",
      "language": "python",
      "name": "python3"
    },
    "language_info": {
      "codemirror_mode": {
        "name": "ipython",
        "version": 3
      },
      "file_extension": ".py",
      "mimetype": "text/x-python",
      "name": "python",
      "nbconvert_exporter": "python",
      "pygments_lexer": "ipython3",
      "version": "3.8.8"
    },
    "colab": {
      "name": "EvaluationEx.ipynb",
      "provenance": [],
      "collapsed_sections": [
        "2a893a13"
      ]
    }
  },
  "cells": [
    {
      "cell_type": "markdown",
      "metadata": {
        "id": "3ba73079"
      },
      "source": [
        "# 평가 (Evaluation)\n",
        "## 모델의 성능 평가 지표"
      ],
      "id": "3ba73079"
    },
    {
      "cell_type": "markdown",
      "metadata": {
        "id": "a351b72b"
      },
      "source": [
        "## 1. 정확도 (Accuracy)"
      ],
      "id": "a351b72b"
    },
    {
      "cell_type": "code",
      "metadata": {
        "id": "5001950b"
      },
      "source": [
        "'''\n",
        "# 정확도 : 실제 데이터에서 예측 데이터가 얼마나 같은지를 판단하는 지표\n",
        "                       예측 결과와 동일한 데이터 건수\n",
        "       정확도 =      -----------------------------------\n",
        "                           전체 예측 데이터 건수\n",
        "                           \n",
        "         : 가장 직관적으로 모델 예측 성능을 나타내는 지표\n",
        "         : 주의 - 정확도 하나 만으로 성능을 평가하면 안됨 (왜곡이 발생할 수 있음)\n",
        "         ex) 타이타닉 데이터의 경우 다른 조건 없이 성별만 가지고 분석하면 여성은 생존, 남성은 사망.. 이런 왜곡된 결과가 도출될 수 있음.\n",
        "         \n",
        "         : 불균형한 데이터 세트일 경우에 정확도의 맹점이 더 잘드러난다.\n",
        "'''"
      ],
      "id": "5001950b",
      "execution_count": null,
      "outputs": []
    },
    {
      "cell_type": "code",
      "metadata": {
        "id": "6a0430f9"
      },
      "source": [
        "from sklearn.base import BaseEstimator\n",
        "import numpy as np\n",
        "\n",
        "# 분류모델 - 단순히 sex feature가 1이면 0, 그렇지 않으면 1로 예측\n",
        "class DummyClassifier(BaseEstimator):\n",
        "    def fit(self, X, y=None):\n",
        "        pass\n",
        "    \n",
        "    def predic(self, X):\n",
        "        pred = np.zeros((X.shape[0], 1))\n",
        "        for i in range(X.shape[0]):\n",
        "            if X['Sex'].iloc[i] == 1:\n",
        "                pred[i] = 0\n",
        "            else :\n",
        "                pred[i] = 1\n",
        "        return pred"
      ],
      "id": "6a0430f9",
      "execution_count": null,
      "outputs": []
    },
    {
      "cell_type": "code",
      "metadata": {
        "id": "af4a3323"
      },
      "source": [
        "# 전처리 작업, 필요없는 카테고리를 없애는 작업\n",
        "from sklearn.preprocessing import LabelEncoder\n",
        "import pandas as pd\n",
        "\n",
        "# null 처리\n",
        "def fillna(df):\n",
        "    df['Age'].fillna(titanic_df['Age'].mean(), inplace=True)\n",
        "    df['Cabin'].fillna('N', inplace=True)\n",
        "    df['Embarked'].fillna('N', inplace=True)\n",
        "    return df\n",
        "\n",
        "# 필요없는 카테고리 제거\n",
        "def drop_feature(df):\n",
        "    df.drop(['PassengerId', 'Name', 'Ticket'], axis=1, inplace=True)\n",
        "    return df\n",
        "\n",
        "# 레이블 인코딩\n",
        "def encoding_features(df):\n",
        "    df['Cabin'] = df['Cabin'].str[:1]\n",
        "    features = ['Cabin', 'Sex', 'Embarked']\n",
        "    for feature in features:\n",
        "        le = LabelEncoder()\n",
        "        le = le.fit(df[feature])\n",
        "        df[feature] = le.transform(df[feature])\n",
        "    return df\n",
        "\n",
        "# 최종 전처리 수행 함수\n",
        "def transform_features(df):\n",
        "    df = fillna(df)\n",
        "    df = drop_feature(df)\n",
        "    df = encoding_features(df)\n",
        "    return df"
      ],
      "id": "af4a3323",
      "execution_count": null,
      "outputs": []
    },
    {
      "cell_type": "code",
      "metadata": {
        "id": "9e1d86bf"
      },
      "source": [
        "# 전처리를 한번에 하는 함수를 이용해서 원본 데이터를 다시 로딩 - 전처리 수행\n",
        "titanic_df = pd.read_csv('data/titanic_train.csv')\n",
        "\n",
        "y_titanic_df = titanic_df['Survived']\n",
        "X_titanic_df = titanic_df.drop('Survived', axis=1)\n",
        "\n",
        "# 학습한 train 세트를 전처리\n",
        "X_titanic_df = transform_features(X_titanic_df)\n",
        "\n",
        "# 학습 세트와 테스트 세트로 분리\n",
        "from sklearn.model_selection import train_test_split\n",
        "\n",
        "X_train, X_test, y_train, y_test = train_test_split(X_titanic_df, y_titanic_df, test_size=0.2, random_state=11)"
      ],
      "id": "9e1d86bf",
      "execution_count": null,
      "outputs": []
    },
    {
      "cell_type": "code",
      "metadata": {
        "id": "9b4c717e",
        "outputId": "9e4cf421-1301-4168-9c91-0849844c88e8"
      },
      "source": [
        "from sklearn.metrics import accuracy_score\n",
        "\n",
        "# 방금 만든 모델로 학습/예측/평가 수행\n",
        "my_clf = DummyClassifier()\n",
        "my_clf.fit(X_train, y_train)\n",
        "\n",
        "my_pred = my_clf.predic(X_test)\n",
        "print('DummyClassifier accuracy : {0:.4f}'.format(accuracy_score(y_test, my_pred)))"
      ],
      "id": "9b4c717e",
      "execution_count": null,
      "outputs": [
        {
          "name": "stdout",
          "output_type": "stream",
          "text": [
            "DummyClassifier accuracy : 0.8324\n"
          ]
        }
      ]
    },
    {
      "cell_type": "markdown",
      "metadata": {
        "id": "21f21fa9"
      },
      "source": [
        "## 2. 오차행렬 (confusion matrix)"
      ],
      "id": "21f21fa9"
    },
    {
      "cell_type": "code",
      "metadata": {
        "id": "8828e447",
        "outputId": "7d529bcd-ac21-4d56-9331-afc1f27dd48d"
      },
      "source": [
        "from IPython.display import Image\n",
        "Image('data/confusion_matrix.png')"
      ],
      "id": "8828e447",
      "execution_count": null,
      "outputs": [
        {
          "data": {
            "image/png": "[encoded data removed]",
            "text/plain": [
              "<IPython.core.display.Image object>"
            ]
          },
          "execution_count": 6,
          "metadata": {},
          "output_type": "execute_result"
        }
      ]
    },
    {
      "cell_type": "code",
      "metadata": {
        "id": "0e91c176"
      },
      "source": [
        "'''\n",
        "# 오차행렬(혼동 행렬)\n",
        " : 학습된 분류 모델이 예측을 수행하면서 얼마나 헷갈리고(confusion) 있는지도 함께 보여주는 지표\n",
        " : 예측 오류가 얼마인지와 더불어 어떠한 유형의 예측 오류가 발생하고 있는지도 함께 보여주는 지표\n",
        " \n",
        " - TN : 예측값을 Negative 값 0으로 예측했고, 실제값 역시 Negative 값 0인 경우\n",
        " - FP : 예측값을 Positive 값 1으로 예측했고, 실제값 역시 Negative 값 0인 경우\n",
        " - FN : 예측값을 Negative 값 0으로 예측했고, 실제값 역시 Positive 값 1인 경우\n",
        " - TP : 예측값을 Positive 값 1으로 예측했고, 실제값 역시 Positive 값 1인 경우\n",
        "'''"
      ],
      "id": "0e91c176",
      "execution_count": null,
      "outputs": []
    },
    {
      "cell_type": "code",
      "metadata": {
        "id": "7789dd3a"
      },
      "source": [
        "# 불균형한 데이터 세트로 검증\n",
        "from sklearn.datasets import load_digits\n",
        "from sklearn.model_selection import train_test_split\n",
        "from sklearn.base import BaseEstimator\n",
        "from sklearn.metrics import accuracy_score\n",
        "import numpy as np\n",
        "import pandas as pd\n",
        "\n",
        "class FakeClassifier(BaseEstimator):\n",
        "    def fit(selt, X, y):\n",
        "        pass\n",
        "    \n",
        "    def predict(self, X):\n",
        "        return np.zeros((len(X), 1), dtype=bool)"
      ],
      "id": "7789dd3a",
      "execution_count": null,
      "outputs": []
    },
    {
      "cell_type": "code",
      "metadata": {
        "id": "e28374a4",
        "outputId": "59a61eb1-cca6-436e-bfb9-83d5a4a7ad77"
      },
      "source": [
        "# 데이터 로딩\n",
        "digits = load_digits()\n",
        "digits.data"
      ],
      "id": "e28374a4",
      "execution_count": null,
      "outputs": [
        {
          "data": {
            "text/plain": [
              "array([[ 0.,  0.,  5., ...,  0.,  0.,  0.],\n",
              "       [ 0.,  0.,  0., ..., 10.,  0.,  0.],\n",
              "       [ 0.,  0.,  0., ..., 16.,  9.,  0.],\n",
              "       ...,\n",
              "       [ 0.,  0.,  1., ...,  6.,  0.,  0.],\n",
              "       [ 0.,  0.,  2., ..., 12.,  0.,  0.],\n",
              "       [ 0.,  0., 10., ..., 12.,  1.,  0.]])"
            ]
          },
          "execution_count": 10,
          "metadata": {},
          "output_type": "execute_result"
        }
      ]
    },
    {
      "cell_type": "code",
      "metadata": {
        "id": "3e6ec901",
        "outputId": "a51ed2c1-ca3f-4dd9-c03b-faee46e8dfba"
      },
      "source": [
        "digits.data.shape"
      ],
      "id": "3e6ec901",
      "execution_count": null,
      "outputs": [
        {
          "data": {
            "text/plain": [
              "(1797, 64)"
            ]
          },
          "execution_count": 11,
          "metadata": {},
          "output_type": "execute_result"
        }
      ]
    },
    {
      "cell_type": "code",
      "metadata": {
        "id": "b2eb8c32",
        "outputId": "a7590200-faa6-4d5a-af6e-13da9a8c4dab"
      },
      "source": [
        "digits.target.shape"
      ],
      "id": "b2eb8c32",
      "execution_count": null,
      "outputs": [
        {
          "data": {
            "text/plain": [
              "(1797,)"
            ]
          },
          "execution_count": 12,
          "metadata": {},
          "output_type": "execute_result"
        }
      ]
    },
    {
      "cell_type": "code",
      "metadata": {
        "id": "4d53d189",
        "outputId": "a83e3810-a6dd-436c-867f-8926a1b0a368"
      },
      "source": [
        "digits.target"
      ],
      "id": "4d53d189",
      "execution_count": null,
      "outputs": [
        {
          "data": {
            "text/plain": [
              "array([0, 1, 2, ..., 8, 9, 8])"
            ]
          },
          "execution_count": 13,
          "metadata": {},
          "output_type": "execute_result"
        }
      ]
    },
    {
      "cell_type": "code",
      "metadata": {
        "id": "21623cb3",
        "outputId": "3fb1bd9d-7ba9-46f4-cbe2-b24fd0e40373"
      },
      "source": [
        "digits.target == 7"
      ],
      "id": "21623cb3",
      "execution_count": null,
      "outputs": [
        {
          "data": {
            "text/plain": [
              "array([False, False, False, ..., False, False, False])"
            ]
          },
          "execution_count": 14,
          "metadata": {},
          "output_type": "execute_result"
        }
      ]
    },
    {
      "cell_type": "code",
      "metadata": {
        "id": "6f41742e"
      },
      "source": [
        "# digits label이 7이면 True임. 사이킷런이 인식하려면 숫자가 되어야 하므로 1로 변환 - 나머지는 0으로 변환 (불균형한 데이터)\n",
        "y = (digits.target==7).astype(int)\n",
        "X_train, X_test, y_train, y_test = train_test_split(digits.data, y, random_state=11)"
      ],
      "id": "6f41742e",
      "execution_count": null,
      "outputs": []
    },
    {
      "cell_type": "code",
      "metadata": {
        "id": "7bfde89c",
        "outputId": "2337c9b3-b0a5-45b7-8b53-df28e6d9ea9f"
      },
      "source": [
        "# FakeClassifier로 학습, 예측, 정확도 평가\n",
        "fake_clf = FakeClassifier()3\n",
        "fake_clf.fit(X_train, y_train)\n",
        "fake_pred = fake_clf.predict(X_test)\n",
        "print('모든 예측을 0으로 하는 모델의 정확도 : {:.4f}'.format(accuracy_score(y_test, fake_pred)))"
      ],
      "id": "7bfde89c",
      "execution_count": null,
      "outputs": [
        {
          "name": "stdout",
          "output_type": "stream",
          "text": [
            "모든 예측을 0으로 하는 모델의 정확도 : 0.9000\n"
          ]
        }
      ]
    },
    {
      "cell_type": "code",
      "metadata": {
        "id": "717911b7"
      },
      "source": [
        "# 현재 정확도는 90%, 즉 그냥 찍어도 90%의 확률 "
      ],
      "id": "717911b7",
      "execution_count": null,
      "outputs": []
    },
    {
      "cell_type": "code",
      "metadata": {
        "id": "14339cde",
        "outputId": "6ca31da7-fcd9-49a4-b696-4b3b2dfc170f"
      },
      "source": [
        "print('레이블 테스트 세트 크기 : ', y_test.shape)"
      ],
      "id": "14339cde",
      "execution_count": null,
      "outputs": [
        {
          "name": "stdout",
          "output_type": "stream",
          "text": [
            "레이블 테스트 세트 크기 :  (450,)\n"
          ]
        }
      ]
    },
    {
      "cell_type": "code",
      "metadata": {
        "id": "13231974",
        "outputId": "34e62255-683a-4650-8632-a1a34e6efb9d"
      },
      "source": [
        "print('레이블 테스트 세트의 0, 1 분포도')\n",
        "print(pd.Series(y_test).value_counts())"
      ],
      "id": "13231974",
      "execution_count": null,
      "outputs": [
        {
          "name": "stdout",
          "output_type": "stream",
          "text": [
            "레이블 테스트 세트의 0, 1 분포도\n",
            "0    405\n",
            "1     45\n",
            "dtype: int64\n"
          ]
        }
      ]
    },
    {
      "cell_type": "code",
      "metadata": {
        "id": "dcad1a6a",
        "outputId": "3f7c4361-297f-4231-d0dd-3d3ac179c0fe"
      },
      "source": [
        "from sklearn.metrics import confusion_matrix\n",
        "\n",
        "confusion_matrix(y_test, fake_pred)"
      ],
      "id": "dcad1a6a",
      "execution_count": null,
      "outputs": [
        {
          "data": {
            "text/plain": [
              "array([[405,   0],\n",
              "       [ 45,   0]], dtype=int64)"
            ]
          },
          "execution_count": 19,
          "metadata": {},
          "output_type": "execute_result"
        }
      ]
    },
    {
      "cell_type": "code",
      "metadata": {
        "id": "fb647cd8"
      },
      "source": [
        "'''\n",
        "# 오차행렬 결과를 보고 더 정확한 분석이 가능해짐\n",
        "# 7이 아니라고 예측했고 실제 7이 아닌 결과로 예측한 개수가 405건,\n",
        "# 7이 아니라고 예측했지만 실제 7인 개수가 45건\n",
        "\n",
        "              (TN + TP)\n",
        "# 정확도 = --------------------\n",
        "          (TN + FP + FN + TP)\n",
        "'''"
      ],
      "id": "fb647cd8",
      "execution_count": null,
      "outputs": []
    },
    {
      "cell_type": "markdown",
      "metadata": {
        "id": "2a893a13"
      },
      "source": [
        "## 3. 정밀도(Precision)와 재현율(Recall)"
      ],
      "id": "2a893a13"
    },
    {
      "cell_type": "code",
      "metadata": {
        "id": "27b42740",
        "outputId": "b6f6434e-6d79-4529-d48d-01d2c1bd4138"
      },
      "source": [
        "from IPython.display import Image\n",
        "Image('data/confusion_matrix.png')"
      ],
      "id": "27b42740",
      "execution_count": null,
      "outputs": [
        {
          "data": {
            "image/png": "[encoded data removed]",
            "text/plain": [
              "<IPython.core.display.Image object>"
            ]
          },
          "execution_count": 20,
          "metadata": {},
          "output_type": "execute_result"
        }
      ]
    },
    {
      "cell_type": "code",
      "metadata": {
        "id": "eec4ab36"
      },
      "source": [
        "'''\n",
        "# 불균형한 데이터 세트에서 정확도보다 더 선호되는 평가 지표들\n",
        "# Positive 데이터 세트의 예측 성능에 좀 더 초점을 맞춘 평가 지표들\n",
        "\n",
        "# 정밀도 = TP / (FP + TP)\n",
        " : 예측을 Positive로 한 대상 중에서 예측과 실제 값이 Positive로 일치한 데이터의 비율\n",
        " : Positive 예측 성능을 더욱 정밀하게 측정하기 위한 평가지표 (양성 예측도)\n",
        " \n",
        "# 재현율 = TP / (FN + TP)\n",
        " : 실제 양성 중 정확히 양성이라고 식별된 사례 비율. 민감도(Sensitivity), TPR(True Positive Rate)\n",
        "'''"
      ],
      "id": "eec4ab36",
      "execution_count": null,
      "outputs": []
    },
    {
      "cell_type": "code",
      "metadata": {
        "id": "6e61038e"
      },
      "source": [
        "'''\n",
        "# 정밀도와 재현율은 업무 특성에 따라 특정 평가 지표가 더 중요한 지표로 간주 될 수 있음에 유의!\n",
        " - 재현율이 상대적으로 더 중요한 지표 : 실제 Positive 양성인 데이터 예측을 Negative 잘못 판단하게 되면 업무 상 큰 영향이 발생하는 경우\n",
        "   ex) 암 판단 모델 : 실제 Positive 환자를 Negative로 잘못 판단해 버릴 경우 오류의 댓가가 너무 큼.\n",
        "                     반대로 Negative 환자를 Positive로 잘못 판단해도 검사비 정도만 소모되므로 허용 범위\n",
        "                     \n",
        "      금융 사기 모델 : 실제 금융 사기 Positive를 Negative로 잘못 판단해 버린 경우 오류의 댓가가 너무 큼.\n",
        "                     반대로 정상금융거래 Negative 를 금융 사기인 Positive로 잘못 판단해 버리면 역시 회사 입장에서는 허용 범위\n",
        "                     더해서 고객에게는 금융사기 혐의를 부여하게 됨. 윤리적으로 주의해야할 부분.\n",
        "    \n",
        " - 정밀도가 상대적으로 더 중요한 지표 : 실제 Negative 음성인 데이터 예측을 Positive 양성으로 잘못 판단하게 되면 업무 상 큰 영향이 발생하는 경우\n",
        "   ex) 스팸메일 여부를 판단하는 모델 : 실제 Negative인 일반(정상) 메일을 Positive인 스팸메일로 분류해버리는 경우 => 사용자가 메일을 아예 받지 못하는 경우가 생기므로 큰 영향이 생김\n",
        "                                     실제 Positive인 스팸 메일을 Negative인 일반(정상) 메일로 분류해버리는 경우 => 일단 메일을 받아서 스팸처리가 가능\n",
        "\n",
        "\n",
        "# 정리\n",
        " : 공식을 살펴보면 재현율과 정밀도 모두 TP를 높이는데 초점이 있다.\n",
        "   그리고 재현율은 FN을 낮추는데, 정밀도는 FP를 낮추는데 초점이 있다.\n",
        "   이 특성에 따라서 재현율과 정밀도는 상호 보완적인 지표이다.\n",
        " : 가장 좋은 성능은 둘 다 모두 높은 수치를 얻는 것이고 상호 보완적이므로 어느 하나가 매우 높고 하나는 매우 낮다면 바람직 하지 않다.\n",
        "    \n",
        "'''"
      ],
      "id": "6e61038e",
      "execution_count": null,
      "outputs": []
    },
    {
      "cell_type": "code",
      "metadata": {
        "id": "d92e74da",
        "outputId": "9b299046-e4bb-44ce-ea86-02963e0b8b65"
      },
      "source": [
        "from sklearn.metrics import accuracy_score, precision_score, recall_score\n",
        "\n",
        "print('정밀도 : ', precision_score(y_test, fake_pred))\n",
        "print('재현율 : ', recall_score(y_test, fake_pred))"
      ],
      "id": "d92e74da",
      "execution_count": null,
      "outputs": [
        {
          "name": "stdout",
          "output_type": "stream",
          "text": [
            "정밀도 :  0.0\n",
            "재현율 :  0.0\n"
          ]
        },
        {
          "name": "stderr",
          "output_type": "stream",
          "text": [
            "C:\\ProgramData\\Anaconda3\\lib\\site-packages\\sklearn\\metrics\\_classification.py:1245: UndefinedMetricWarning: Precision is ill-defined and being set to 0.0 due to no predicted samples. Use `zero_division` parameter to control this behavior.\n",
            "  _warn_prf(average, modifier, msg_start, len(result))\n"
          ]
        }
      ]
    },
    {
      "cell_type": "code",
      "metadata": {
        "id": "d10271e2"
      },
      "source": [
        "from sklearn.metrics import accuracy_score, confusion_matrix, precision_score, recall_score\n",
        "\n",
        "def get_clf_eval(y_test, pred):\n",
        "    confusion = confusion_matrix(y_test, pred)\n",
        "    accuracy = accuracy_score(y_test, pred)\n",
        "    precision = precision_score(y_test, pred)\n",
        "    recall = recall_score(y_test, pred)\n",
        "    print('---- 오차 행렬 ----')\n",
        "    print(confusion)\n",
        "    print('정확도 : {0:.4f}, 정밀도 : {1:.4f}, 재현율 : {2:.4f}'.format(accuracy, precision, recall))"
      ],
      "id": "d10271e2",
      "execution_count": null,
      "outputs": []
    },
    {
      "cell_type": "code",
      "metadata": {
        "id": "8856770f",
        "outputId": "7a3ac3b6-d43d-460b-996d-dc2dd7f02ec2"
      },
      "source": [
        "# 타이타닉 데이터를 재평가해보기\n",
        "import numpy as np\n",
        "import pandas as pd\n",
        "\n",
        "from sklearn.model_selection import train_test_split\n",
        "from sklearn.linear_model import LogisticRegression\n",
        "\n",
        "titanic_df = pd.read_csv('data/titanic_train.csv')\n",
        "y_titanic_df = titanic_df['Survived']\n",
        "X_titanic_df = titanic_df.drop(['Survived'], axis=1)\n",
        "\n",
        "X_titanic_df = transform_features(X_titanic_df)\n",
        "\n",
        "X_train, X_test, y_train, y_test = train_test_split(X_titanic_df, y_titanic_df, test_size=0.2, random_state=11)\n",
        "\n",
        "lr_clf = LogisticRegression()\n",
        "lr_clf.fit(X_train, y_train)\n",
        "pred = lr_clf.predict(X_test)\n",
        "\n",
        "# 평가\n",
        "get_clf_eval(y_test, pred)"
      ],
      "id": "8856770f",
      "execution_count": null,
      "outputs": [
        {
          "name": "stdout",
          "output_type": "stream",
          "text": [
            "---- 오차 행렬 ----\n",
            "[[104  14]\n",
            " [ 13  48]]\n",
            "정확도 : 0.8492, 정밀도 : 0.7742, 재현율 : 0.7869\n"
          ]
        },
        {
          "name": "stderr",
          "output_type": "stream",
          "text": [
            "C:\\ProgramData\\Anaconda3\\lib\\site-packages\\sklearn\\linear_model\\_logistic.py:763: ConvergenceWarning: lbfgs failed to converge (status=1):\n",
            "STOP: TOTAL NO. of ITERATIONS REACHED LIMIT.\n",
            "\n",
            "Increase the number of iterations (max_iter) or scale the data as shown in:\n",
            "    https://scikit-learn.org/stable/modules/preprocessing.html\n",
            "Please also refer to the documentation for alternative solver options:\n",
            "    https://scikit-learn.org/stable/modules/linear_model.html#logistic-regression\n",
            "  n_iter_i = _check_optimize_result(\n"
          ]
        }
      ]
    },
    {
      "cell_type": "markdown",
      "metadata": {
        "id": "4a58bac3"
      },
      "source": [
        "- 정밀도와 재현율이 차이가 났을 때 조정이 가능한가?\n",
        "\n",
        "## 정밀도/재현율 트레이드 오프 (Trade-off)"
      ],
      "id": "4a58bac3"
    },
    {
      "cell_type": "code",
      "metadata": {
        "colab": {
          "base_uri": "https://localhost:8080/",
          "height": 71
        },
        "id": "7283e23a",
        "outputId": "2b062f26-b703-4525-dfb0-22ed4549e96b"
      },
      "source": [
        "'''\n",
        "# 분류하는 업무의 특성을 보고 분류의 결정임계값(Threshold)을 조정해 정밀도 또는 재현율의 수치를 조정 가능함.\n",
        "  정밀도와 재현율은 상호 보완적인 지표이므로 어느 한쪽을 높이면 다른 한쪽의 수치가 떨어지게 됨. 이를 정밀도/재현율 트레이드 오프라고 함.\n",
        "\n",
        "# 결정임계값\n",
        " : 보통 모델이 판단을 할 때 특정 값을 기준으로 하여 이 기준값보다 확률이 크면 Positive, 낮으면 Negative라고 결정을 함.\n",
        "   이 기준값이 결정임계값. 일반적으로 이진분류에서는 0.5가 보통\n",
        "'''"
      ],
      "id": "7283e23a",
      "execution_count": 1,
      "outputs": [
        {
          "output_type": "execute_result",
          "data": {
            "application/vnd.google.colaboratory.intrinsic+json": {
              "type": "string"
            },
            "text/plain": [
              "'\\n# 분류하는 업무의 특성을 보고 분류의 결정임계값(Threshold)을 조정해 정밀도 또는 재현율의 수치를 조정 가능함.\\n  정밀도와 재현율은 상호 보완적인 지표이므로 어느 한쪽을 높이면 다른 한쪽의 수치가 떨어지게 됨. 이를 정밀도/재현율 트레이드 오프라고 함.\\n\\n# 결정임계값\\n : 보통 모델이 판단을 할 때 특정 값을 기준으로 하여 이 기준값보다 확률이 크면 Positive, 낮으면 Negative라고 결정을 함.\\n   이 기준값이 결정임계값. 일반적으로 이진분류에서는 0.5가 보통\\n'"
            ]
          },
          "metadata": {},
          "execution_count": 1
        }
      ]
    },
    {
      "cell_type": "code",
      "metadata": {
        "colab": {
          "base_uri": "https://localhost:8080/",
          "height": 172
        },
        "id": "0bd8a52b",
        "outputId": "3da9b670-0a11-4104-f82e-b4c642056b02"
      },
      "source": [
        "X_test"
      ],
      "id": "0bd8a52b",
      "execution_count": 2,
      "outputs": [
        {
          "output_type": "error",
          "ename": "NameError",
          "evalue": "ignored",
          "traceback": [
            "\u001b[0;31m---------------------------------------------------------------------------\u001b[0m",
            "\u001b[0;31mNameError\u001b[0m                                 Traceback (most recent call last)",
            "\u001b[0;32m<ipython-input-2-0c1cdefd54ea>\u001b[0m in \u001b[0;36m<module>\u001b[0;34m()\u001b[0m\n\u001b[0;32m----> 1\u001b[0;31m \u001b[0mX_test\u001b[0m\u001b[0;34m\u001b[0m\u001b[0;34m\u001b[0m\u001b[0m\n\u001b[0m",
            "\u001b[0;31mNameError\u001b[0m: name 'X_test' is not defined"
          ]
        }
      ]
    },
    {
      "cell_type": "code",
      "metadata": {
        "id": "31ba885d"
      },
      "source": [
        "# 개별 데이터로 예측 확률을 반환하는 메소드\n",
        "pred_proba = lr_clf.predict_proba(X_test)\n",
        "pred_proba.shape"
      ],
      "id": "31ba885d",
      "execution_count": null,
      "outputs": []
    },
    {
      "cell_type": "code",
      "metadata": {
        "id": "8e73fd06"
      },
      "source": [
        "pred_proba[:3]"
      ],
      "id": "8e73fd06",
      "execution_count": null,
      "outputs": []
    },
    {
      "cell_type": "code",
      "metadata": {
        "id": "c5445baa"
      },
      "source": [
        "# 임계값에 따른 정밀도/재현율 값을 추출\n",
        "from sklearn.metrics import precision_recall_curve"
      ],
      "id": "c5445baa",
      "execution_count": null,
      "outputs": []
    },
    {
      "cell_type": "code",
      "metadata": {
        "id": "4aaaf4d1"
      },
      "source": [
        "# 레이블 값이 1일 때의 예측 확률을 추출\n",
        "pred_proba_class_1 = lr_clf.predict_proba(X_test)[:, 1]\n",
        "\n",
        "# 실제 데이터 세트와 레이블 값이 1일 때의 예측 확률을 추출\n",
        "precisions, recalls, thresholds = precision_recall_curve(y_test, pred_proba_class_1)\n",
        "\n",
        "print(precisions.shape, recalls.shape, thresholds.shape)"
      ],
      "id": "4aaaf4d1",
      "execution_count": null,
      "outputs": []
    },
    {
      "cell_type": "code",
      "metadata": {
        "id": "e6f28ab7"
      },
      "source": [
        "# 정밀도, 재현율 변화 곡선"
      ],
      "id": "e6f28ab7",
      "execution_count": null,
      "outputs": []
    },
    {
      "cell_type": "code",
      "metadata": {
        "id": "5de4f2da"
      },
      "source": [
        "import matplotlib.pyplot as plt\n",
        "import matplotlib.ticker as ticker"
      ],
      "id": "5de4f2da",
      "execution_count": null,
      "outputs": []
    },
    {
      "cell_type": "code",
      "metadata": {
        "id": "df8d31de"
      },
      "source": [
        "def precision_recall_curve_plt(y_test, pred_proba_class_1):\n",
        "    precisions, recalls, thresholds = precision_recall_curve(y_test, pred_proba_class_1)\n",
        "    \n",
        "    # x 축은 임계값, y축은 정밀도, 재현율 값\n",
        "    plt.figure(figsize=(15, 6))\n",
        "    thresholds_boundary = thresholds.shape[0]\n",
        "    plt.plot(thresholds, precisions[0:thresholds_boundary], linestyle='--', label='precision')\n",
        "    plt.plot(thresholds, recalls[0:thresholds_boundary], label='recall')\n",
        "    \n",
        "    # x 축 scale을 0.1 단위로 변경\n",
        "    start, end = plt.xlim()\n",
        "    plt.xticks(np.round(np.arange(start, end, 0.1), 2))\n",
        "    \n",
        "    # 각 축에 Label\n",
        "    plt.xlabel('Treshold value')\n",
        "    plt.ylabel('Precision & Recall Value')\n",
        "    plt.legend()\n",
        "    plt.grid()\n",
        "    plt.show()   "
      ],
      "id": "df8d31de",
      "execution_count": null,
      "outputs": []
    },
    {
      "cell_type": "code",
      "metadata": {
        "id": "86b168a0"
      },
      "source": [
        "precision_recall_curve_plt(y_test, lr_clf.predict_proba(X_test)[:, 1])"
      ],
      "id": "86b168a0",
      "execution_count": null,
      "outputs": []
    },
    {
      "cell_type": "code",
      "metadata": {
        "id": "54a543d7"
      },
      "source": [
        ""
      ],
      "id": "54a543d7",
      "execution_count": null,
      "outputs": []
    },
    {
      "cell_type": "code",
      "metadata": {
        "id": "d52f023c"
      },
      "source": [
        ""
      ],
      "id": "d52f023c",
      "execution_count": null,
      "outputs": []
    },
    {
      "cell_type": "code",
      "metadata": {
        "id": "0702c46a"
      },
      "source": [
        ""
      ],
      "id": "0702c46a",
      "execution_count": null,
      "outputs": []
    },
    {
      "cell_type": "code",
      "metadata": {
        "id": "6f5f889d"
      },
      "source": [
        ""
      ],
      "id": "6f5f889d",
      "execution_count": null,
      "outputs": []
    },
    {
      "cell_type": "code",
      "metadata": {
        "id": "0d487954"
      },
      "source": [
        ""
      ],
      "id": "0d487954",
      "execution_count": null,
      "outputs": []
    }
  ]
}