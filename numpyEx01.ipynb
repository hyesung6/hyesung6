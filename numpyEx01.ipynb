{
  "nbformat": 4,
  "nbformat_minor": 0,
  "metadata": {
    "colab": {
      "name": "numpyEx01.ipynb",
      "provenance": [],
      "authorship_tag": "ABX9TyOoAPHZad/T6pWLkHKycoXJ"
    },
    "kernelspec": {
      "name": "python3",
      "display_name": "Python 3"
    },
    "language_info": {
      "name": "python"
    }
  },
  "cells": [
    {
      "cell_type": "code",
      "metadata": {
        "colab": {
          "base_uri": "https://localhost:8080/"
        },
        "id": "_FKT5fPL2j-n",
        "outputId": "e462fc1b-6a0e-4f8c-e625-d37d771c6956"
      },
      "source": [
        "'''\n",
        "# numpy : 고성능 과학(수치) 계산을 위한 데이터분석(수치분석) 패키지\n",
        "#       : 벡터 산술연산\n",
        "#    : 다차원 배열 ( ndarray)\n",
        "#    : 표준 수학 함수\n",
        "#    : 선형대수, 난수\n",
        "'''\n",
        "import numpy as np\n",
        "x = np.array([18, 5, 10, 2, 3, 11, -3, -5, -30, 15, 6, 78, -13, 9, 5, 7, 8, 3, 80, -4])\n",
        "x"
      ],
      "execution_count": 1,
      "outputs": [
        {
          "output_type": "execute_result",
          "data": {
            "text/plain": [
              "array([ 18,   5,  10,   2,   3,  11,  -3,  -5, -30,  15,   6,  78, -13,\n",
              "         9,   5,   7,   8,   3,  80,  -4])"
            ]
          },
          "metadata": {},
          "execution_count": 1
        }
      ]
    },
    {
      "cell_type": "code",
      "metadata": {
        "id": "p-opxnr_5Xia"
      },
      "source": [
        "len(x)"
      ],
      "execution_count": null,
      "outputs": []
    },
    {
      "cell_type": "code",
      "metadata": {
        "colab": {
          "base_uri": "https://localhost:8080/"
        },
        "id": "prIBqcI05aJL",
        "outputId": "3a633491-916e-40fe-859d-e0a6fad0ed58"
      },
      "source": [
        "# 평균(average, mean)\n",
        "np.mean(x)"
      ],
      "execution_count": 3,
      "outputs": [
        {
          "output_type": "execute_result",
          "data": {
            "text/plain": [
              "25.073641538476217"
            ]
          },
          "metadata": {},
          "execution_count": 3
        }
      ]
    },
    {
      "cell_type": "code",
      "metadata": {
        "id": "Rctp4xDu7QTh"
      },
      "source": [
        "# 분산(variance) : 데이터와 샘플 평균 간의 거리의 제곱의 평균\n",
        "#                : 이 값이 작으면 데이터가 모여 있는 것\n",
        "#                : 이 값이 크면 데이터가 흩어져 있는 것\n",
        "np.var(x)"
      ],
      "execution_count": null,
      "outputs": []
    },
    {
      "cell_type": "code",
      "metadata": {
        "id": "FlOCFpxW7TLg"
      },
      "source": [
        "# 표준편차 (standard deviation) : 분산의 제곱근 값\n",
        "np.std(x)"
      ],
      "execution_count": null,
      "outputs": []
    },
    {
      "cell_type": "code",
      "metadata": {
        "id": "eFyQFLou7Wld"
      },
      "source": [
        "# 최대값 ( maximum)\n",
        "np.max(x)\n"
      ],
      "execution_count": null,
      "outputs": []
    },
    {
      "cell_type": "code",
      "metadata": {
        "id": "PItYwis97fpK"
      },
      "source": [
        "# 최소값(minimum)\n",
        "np.min(x)"
      ],
      "execution_count": null,
      "outputs": []
    },
    {
      "cell_type": "code",
      "metadata": {
        "id": "jWq-zQLO7iZI"
      },
      "source": [
        "# 중앙값 (medium)\n",
        "# : 데이터를 크기대로 정렬했을 때 가운데에 있는 수\n",
        "# : 데이터 갯수가 짝수인 경우 중앙의 두 수 평균을 사용\n",
        "np.median(x)"
      ],
      "execution_count": null,
      "outputs": []
    },
    {
      "cell_type": "code",
      "metadata": {
        "colab": {
          "base_uri": "https://localhost:8080/"
        },
        "id": "gODGZpdW8WGJ",
        "outputId": "072a43db-bf44-4736-f047-9015f9692f84"
      },
      "source": [
        "# 사분위수(quartile) \n",
        "# : 데이터를 크기대로 정렬했을 때, \n",
        "# : 1/4, 2/4, 3/4 위치에 있는 수를 말한다\n",
        "# : 1사분위수, 2사분위수, 3사분위수라고 함\n",
        "# : 데이터가 100개 있다면 25번 째가 1사분위수,\n",
        "# : 2사분위수는 중앙값과 같음\n",
        "# : 위치를 1/100 단위로 나누는 백분위수(percentile)을 사용하기도 함\n",
        "\n",
        "print(np.percentile(x, 0))     # = min() 와 같음\n",
        "print(np.percentile(x, 25))\n",
        "print(np.percentile(x, 50))\n",
        "print(np.percentile(x, 75))\n",
        "print(np.percentile(x, 100))   # = max() 와 같음 "
      ],
      "execution_count": 5,
      "outputs": [
        {
          "output_type": "stream",
          "name": "stdout",
          "text": [
            "-30.0\n",
            "0.75\n",
            "5.5\n",
            "10.25\n",
            "80.0\n"
          ]
        }
      ]
    },
    {
      "cell_type": "code",
      "metadata": {
        "id": "I3Zx4zrgBnMr"
      },
      "source": [
        "\n",
        "\n",
        "np.product(x)"
      ],
      "execution_count": null,
      "outputs": []
    },
    {
      "cell_type": "code",
      "metadata": {
        "id": "E4BplOM4B6Cd"
      },
      "source": [
        "# numpy 배열\n",
        "'''\n",
        "같은 종류의 데이터를 담는 자료형 (동일한 타입의 값)\n",
        "- rank : 배열 차원 (ndim)\n",
        "- shape : 각 차원의 크기를 튜플로 리턴 (행, 열)\n",
        "- dtype : 배열에 저장된 자료를 알려주는 객체\n",
        "'''"
      ],
      "execution_count": null,
      "outputs": []
    },
    {
      "cell_type": "code",
      "metadata": {
        "colab": {
          "base_uri": "https://localhost:8080/"
        },
        "id": "xR1vjsj9CGOW",
        "outputId": "ed26054f-67bd-4e9d-ce05-8ec185575c23"
      },
      "source": [
        "a = np.array([1,2,3])\n",
        "b = [1,2,3]\n",
        "print(type(a))\n",
        "print(type(b))"
      ],
      "execution_count": 6,
      "outputs": [
        {
          "output_type": "stream",
          "name": "stdout",
          "text": [
            "<class 'numpy.ndarray'>\n",
            "<class 'list'>\n"
          ]
        }
      ]
    },
    {
      "cell_type": "code",
      "metadata": {
        "id": "YZMpRK5VDKKZ"
      },
      "source": [
        "# numpy 배열 객체 \n",
        "- array() : 배열 생성\n",
        "- arange() : 배열 생성 시 지정 값까지 자동 생성\n",
        "- reshape() : 배열 모양 변경\n",
        "- zeros() : 0이 들어있는 배열 생성\n",
        "- ones() : 1이 들어있는 배열 생성\n",
        "- full() : 모든 값이 특정 상수인 배열을 생성\n",
        "- eye() : 단위 행렬 생성"
      ],
      "execution_count": null,
      "outputs": []
    },
    {
      "cell_type": "code",
      "metadata": {
        "colab": {
          "base_uri": "https://localhost:8080/"
        },
        "id": "iOh2NT1GDpcj",
        "outputId": "6593d0e7-857a-4d45-81d3-77be1a51e997"
      },
      "source": [
        "np.ndim(a)\n"
      ],
      "execution_count": 8,
      "outputs": [
        {
          "output_type": "execute_result",
          "data": {
            "text/plain": [
              "1"
            ]
          },
          "metadata": {},
          "execution_count": 8
        }
      ]
    },
    {
      "cell_type": "code",
      "metadata": {
        "colab": {
          "base_uri": "https://localhost:8080/"
        },
        "id": "z7xJsXhgDttD",
        "outputId": "b5e27cc6-d426-4a1e-f182-517129320adb"
      },
      "source": [
        "# 2차원 배열 생성\n",
        "b = np.array([[1, 2, 3], [4, 5, 6]])\n",
        "b"
      ],
      "execution_count": 7,
      "outputs": [
        {
          "output_type": "execute_result",
          "data": {
            "text/plain": [
              "array([[1, 2, 3],\n",
              "       [4, 5, 6]])"
            ]
          },
          "metadata": {},
          "execution_count": 7
        }
      ]
    },
    {
      "cell_type": "code",
      "metadata": {
        "colab": {
          "base_uri": "https://localhost:8080/"
        },
        "id": "kBUmlfalEFsT",
        "outputId": "3c534faa-bd2a-44f2-8561-728804f586c5"
      },
      "source": [
        "print(b.ndim, b.shape, b.dtype)"
      ],
      "execution_count": 9,
      "outputs": [
        {
          "output_type": "stream",
          "name": "stdout",
          "text": [
            "2 (2, 3) int64\n"
          ]
        }
      ]
    },
    {
      "cell_type": "code",
      "metadata": {
        "colab": {
          "base_uri": "https://localhost:8080/"
        },
        "id": "yEq6iilIFKW2",
        "outputId": "4e003e38-3811-4a87-8ef1-a87211e56bf0"
      },
      "source": [
        "b.itemsize       # itemsize : 각 배열 요소가 메모리 상에서 차지하고 있는 크기 - 보통 int 자료형은 4byte"
      ],
      "execution_count": 10,
      "outputs": [
        {
          "output_type": "execute_result",
          "data": {
            "text/plain": [
              "8"
            ]
          },
          "metadata": {},
          "execution_count": 10
        }
      ]
    },
    {
      "cell_type": "code",
      "metadata": {
        "colab": {
          "base_uri": "https://localhost:8080/"
        },
        "id": "zTETfd9qFwYs",
        "outputId": "7008812a-6c7b-4d4a-b1f3-87cc639f08ef"
      },
      "source": [
        "# arange()\n",
        "arr = np.arange(12)   # 0부터 시작하는 numpy array 객체를 생성\n",
        "arr"
      ],
      "execution_count": 12,
      "outputs": [
        {
          "output_type": "execute_result",
          "data": {
            "text/plain": [
              "array([ 0,  1,  2,  3,  4,  5,  6,  7,  8,  9, 10, 11])"
            ]
          },
          "metadata": {},
          "execution_count": 12
        }
      ]
    },
    {
      "cell_type": "code",
      "metadata": {
        "colab": {
          "base_uri": "https://localhost:8080/"
        },
        "id": "Zep4bH-GGNqd",
        "outputId": "4a9c1bb3-b2c4-4e01-b961-d550e42b78fe"
      },
      "source": [
        "# 배열 형태 변환 : reshape()\n",
        "# 3행 4열로 만들기\n",
        "\n",
        "arr = np.arange(12).reshape(3, 4); arr"
      ],
      "execution_count": 13,
      "outputs": [
        {
          "output_type": "execute_result",
          "data": {
            "text/plain": [
              "array([[ 0,  1,  2,  3],\n",
              "       [ 4,  5,  6,  7],\n",
              "       [ 8,  9, 10, 11]])"
            ]
          },
          "metadata": {},
          "execution_count": 13
        }
      ]
    },
    {
      "cell_type": "code",
      "metadata": {
        "colab": {
          "base_uri": "https://localhost:8080/"
        },
        "id": "3sr1EMiOG6lk",
        "outputId": "69c1252e-95fa-42d8-8671-c7dde6d088f2"
      },
      "source": [
        "arr.reshape(-1)   # 입력항목으로 -1을 넣으면 원래대로 돌려줌\n"
      ],
      "execution_count": 14,
      "outputs": [
        {
          "output_type": "execute_result",
          "data": {
            "text/plain": [
              "array([ 0,  1,  2,  3,  4,  5,  6,  7,  8,  9, 10, 11])"
            ]
          },
          "metadata": {},
          "execution_count": 14
        }
      ]
    },
    {
      "cell_type": "code",
      "metadata": {
        "colab": {
          "base_uri": "https://localhost:8080/"
        },
        "id": "Dx42P0o2HS5e",
        "outputId": "7fc7b41a-996b-4f8f-c298-c0f9c069fa67"
      },
      "source": [
        "# zeros()    # 입력항목으로 튜플이 들어와야함.\n",
        "# : 다차원 배열을 만드는 값을 튜플로 받아들여 0 으로 채워진 배열을 반환\n",
        "np.zeros((3, 4))"
      ],
      "execution_count": 15,
      "outputs": [
        {
          "output_type": "execute_result",
          "data": {
            "text/plain": [
              "array([[0., 0., 0., 0.],\n",
              "       [0., 0., 0., 0.],\n",
              "       [0., 0., 0., 0.]])"
            ]
          },
          "metadata": {},
          "execution_count": 15
        }
      ]
    },
    {
      "cell_type": "code",
      "metadata": {
        "colab": {
          "base_uri": "https://localhost:8080/"
        },
        "id": "cvKE8_jvIXrD",
        "outputId": "130e49e7-ebdd-4c17-8368-523f7c296316"
      },
      "source": [
        "# ones()    \n",
        "# : zeros()와 마찬가지로 동작, 1로 채워진 다차원 배열 반환\n",
        "np.ones((3, 3))"
      ],
      "execution_count": 16,
      "outputs": [
        {
          "output_type": "execute_result",
          "data": {
            "text/plain": [
              "array([[1., 1., 1.],\n",
              "       [1., 1., 1.],\n",
              "       [1., 1., 1.]])"
            ]
          },
          "metadata": {},
          "execution_count": 16
        }
      ]
    },
    {
      "cell_type": "code",
      "metadata": {
        "colab": {
          "base_uri": "https://localhost:8080/"
        },
        "id": "FUGxKt0pIg06",
        "outputId": "bf081ca5-0d9b-416a-9171-1ba06b0862c3"
      },
      "source": [
        "# full()              # (x, y)  \n",
        "# x = 다차원 배열을 생성할 튜플값, y = 채울 값\n",
        "np.full((3, 3), 10)"
      ],
      "execution_count": 17,
      "outputs": [
        {
          "output_type": "execute_result",
          "data": {
            "text/plain": [
              "array([[10, 10, 10],\n",
              "       [10, 10, 10],\n",
              "       [10, 10, 10]])"
            ]
          },
          "metadata": {},
          "execution_count": 17
        }
      ]
    },
    {
      "cell_type": "code",
      "metadata": {
        "colab": {
          "base_uri": "https://localhost:8080/"
        },
        "id": "2BFkWB36I2wU",
        "outputId": "f06b3f3d-4fb1-4474-c406-58b0fe1e194f"
      },
      "source": [
        "# 단위행렬\n",
        "# eye()  : 1행1열, 2행2열, 3행3열 계단식으로 1이 채워지고, 나머지는 0을 채우는 배열을 생성\n",
        "np.eye(3)           "
      ],
      "execution_count": 18,
      "outputs": [
        {
          "output_type": "execute_result",
          "data": {
            "text/plain": [
              "array([[1., 0., 0.],\n",
              "       [0., 1., 0.],\n",
              "       [0., 0., 1.]])"
            ]
          },
          "metadata": {},
          "execution_count": 18
        }
      ]
    },
    {
      "cell_type": "code",
      "metadata": {
        "colab": {
          "base_uri": "https://localhost:8080/"
        },
        "id": "gOtBccKwKVhI",
        "outputId": "5a39ba63-fcc8-4c36-cfab-b280e0587592"
      },
      "source": [
        "# ndarray - 임의의 데이터를 만들어서 모델에게 테스트하는 용도로 주로 사용\n",
        "np.random.random((2, 2))\n"
      ],
      "execution_count": 19,
      "outputs": [
        {
          "output_type": "execute_result",
          "data": {
            "text/plain": [
              "array([[0.72344419, 0.6085922 ],\n",
              "       [0.21301457, 0.44427031]])"
            ]
          },
          "metadata": {},
          "execution_count": 19
        }
      ]
    },
    {
      "cell_type": "code",
      "metadata": {
        "colab": {
          "base_uri": "https://localhost:8080/"
        },
        "id": "S4aKq_n0POaL",
        "outputId": "012f2bb7-b6dc-49c9-f2c3-de291216deb0"
      },
      "source": [
        "# 슬라이싱 : 파이선 리스트와 똑같이 numpy 객체도 슬라이싱 가능\n",
        "#          : 슬라이싱 된 배열은 원본 배열과 같은 데이터를 참조함\n",
        "#          : 그러므로 슬라이싱 된 배열을 수정하면 원본 배열도 수정 된다.\n",
        "#          : ==> 슬라이싱 결과는 언제나 원본 배열의 부분을 보여주는 것뿐, 새로운 객체가 아님\n",
        "\n",
        "a = np.array([[1, 2, 3, 4], [5, 6, 7, 8], [9, 10, 11, 12]])\n",
        "a"
      ],
      "execution_count": 21,
      "outputs": [
        {
          "output_type": "execute_result",
          "data": {
            "text/plain": [
              "array([[ 1,  2,  3,  4],\n",
              "       [ 5,  6,  7,  8],\n",
              "       [ 9, 10, 11, 12]])"
            ]
          },
          "metadata": {},
          "execution_count": 21
        }
      ]
    },
    {
      "cell_type": "code",
      "metadata": {
        "colab": {
          "base_uri": "https://localhost:8080/"
        },
        "id": "2QEKTrXdPfQV",
        "outputId": "87ac8e34-d82a-480a-9e58-cf432961ab92"
      },
      "source": [
        "# (1, 2, 5, 6) 을 가져오고 싶음\n",
        "\n",
        "b = a[:2, :2]; b"
      ],
      "execution_count": 22,
      "outputs": [
        {
          "output_type": "execute_result",
          "data": {
            "text/plain": [
              "array([[1, 2],\n",
              "       [5, 6]])"
            ]
          },
          "metadata": {},
          "execution_count": 22
        }
      ]
    },
    {
      "cell_type": "code",
      "metadata": {
        "colab": {
          "base_uri": "https://localhost:8080/"
        },
        "id": "-F9hKEo2P6wi",
        "outputId": "5548e496-42a7-44ee-bdae-b9610f540f51"
      },
      "source": [
        "# (2, 3, 6, 7) 가져오기\n",
        "\n",
        "c = a[:2, 1:3]; c"
      ],
      "execution_count": 26,
      "outputs": [
        {
          "output_type": "execute_result",
          "data": {
            "text/plain": [
              "array([[2, 3],\n",
              "       [6, 7]])"
            ]
          },
          "metadata": {},
          "execution_count": 26
        }
      ]
    },
    {
      "cell_type": "code",
      "metadata": {
        "colab": {
          "base_uri": "https://localhost:8080/"
        },
        "id": "kG7WgQfPQhh1",
        "outputId": "69c05556-4e4a-4a17-d708-61bbb4457feb"
      },
      "source": [
        "# 인덱싱\n",
        "# numpy 배열 인덱싱은 팬시 인덱싱(fancy indexing)이라고 함\n",
        "# 배열 인덱싱의 유용한 기능 중 하나는, 행렬의 각 행에서 하나의 요소를 선택, 수정하는 기능\n",
        "# 정수 배열 인덱싱을 하는 경우 원본과 다른 배열 객체를 만들 수 있음\n",
        "\n",
        "print(b)\n",
        "print('='*40)\n",
        "b[0, 0]\n"
      ],
      "execution_count": 27,
      "outputs": [
        {
          "output_type": "stream",
          "name": "stdout",
          "text": [
            "[[1 2]\n",
            " [5 6]]\n",
            "========================================\n"
          ]
        },
        {
          "output_type": "execute_result",
          "data": {
            "text/plain": [
              "1"
            ]
          },
          "metadata": {},
          "execution_count": 27
        }
      ]
    },
    {
      "cell_type": "code",
      "metadata": {
        "colab": {
          "base_uri": "https://localhost:8080/"
        },
        "id": "mTXnniA8Qzih",
        "outputId": "b3ad4a6d-109f-469d-c25b-e1a188176b23"
      },
      "source": [
        "b[0, 0] = 100; b\n",
        "print(a)\n",
        "\n",
        "# numpy 배열객체 b의 값을 수정 후 , 원본 배열객체 a를 프린트 해보면, 값이 변한 것이 반영되었다."
      ],
      "execution_count": 30,
      "outputs": [
        {
          "output_type": "stream",
          "name": "stdout",
          "text": [
            "[[100   2   3   4]\n",
            " [  5   6   7   8]\n",
            " [  9  10  11  12]]\n"
          ]
        }
      ]
    },
    {
      "cell_type": "code",
      "metadata": {
        "colab": {
          "base_uri": "https://localhost:8080/"
        },
        "id": "gzoQqCjZSusx",
        "outputId": "e6f9f136-163a-4442-f4ee-ac033535eb89"
      },
      "source": [
        "# (5, 6, 7, 8)을 가져오기 => 2번째 행을 추출\n",
        "# a[x,y] 형식의 y 값을 인덱싱으로 입력하면 행 형태로 가져옴\n",
        "d = a[1, :]; d"
      ],
      "execution_count": 31,
      "outputs": [
        {
          "output_type": "execute_result",
          "data": {
            "text/plain": [
              "array([5, 6, 7, 8])"
            ]
          },
          "metadata": {},
          "execution_count": 31
        }
      ]
    },
    {
      "cell_type": "code",
      "metadata": {
        "colab": {
          "base_uri": "https://localhost:8080/"
        },
        "id": "DksrWQL3S2C7",
        "outputId": "79611fb1-24c4-49a3-da27-99c4412b0bad"
      },
      "source": [
        "print(d.ndim, d.shape)"
      ],
      "execution_count": 33,
      "outputs": [
        {
          "output_type": "stream",
          "name": "stdout",
          "text": [
            "1 (4,)\n"
          ]
        }
      ]
    },
    {
      "cell_type": "code",
      "metadata": {
        "colab": {
          "base_uri": "https://localhost:8080/"
        },
        "id": "iIiwo64oS_RY",
        "outputId": "a0cc1aff-7e5c-42c4-e7e1-a23128f58806"
      },
      "source": [
        "# (2, 6, 10)을 가져와서 변수 e에 담기  ==> 2번째 열을 추출\n",
        "# a[x,y] 형식의 y 값을 슬라이싱으로 입력하면 열 형태로 가져옴\n",
        "e = a[:3, 1:2]; e"
      ],
      "execution_count": 43,
      "outputs": [
        {
          "output_type": "execute_result",
          "data": {
            "text/plain": [
              "array([[ 2],\n",
              "       [ 6],\n",
              "       [10]])"
            ]
          },
          "metadata": {},
          "execution_count": 43
        }
      ]
    },
    {
      "cell_type": "code",
      "metadata": {
        "colab": {
          "base_uri": "https://localhost:8080/"
        },
        "id": "oohdWTJuTvOd",
        "outputId": "a2a07e56-eb73-4fdb-c82d-17722769f1a8"
      },
      "source": [
        "print(e.ndim, e.shape)"
      ],
      "execution_count": 40,
      "outputs": [
        {
          "output_type": "stream",
          "name": "stdout",
          "text": [
            "1 (3,)\n"
          ]
        }
      ]
    },
    {
      "cell_type": "code",
      "metadata": {
        "colab": {
          "base_uri": "https://localhost:8080/"
        },
        "id": "vjPHzoCqVDJt",
        "outputId": "3906b914-18d3-4ee2-8e61-9f3099e500da"
      },
      "source": [
        "a = np.array([[1, 2], [3, 4], [5, 6]]); a"
      ],
      "execution_count": 44,
      "outputs": [
        {
          "output_type": "execute_result",
          "data": {
            "text/plain": [
              "array([[1, 2],\n",
              "       [3, 4],\n",
              "       [5, 6]])"
            ]
          },
          "metadata": {},
          "execution_count": 44
        }
      ]
    },
    {
      "cell_type": "code",
      "metadata": {
        "colab": {
          "base_uri": "https://localhost:8080/"
        },
        "id": "GD4he-oIVvRy",
        "outputId": "d80a80c7-9022-4a51-9a50-0392f2d5ba97"
      },
      "source": [
        "# (1, 4, 5) 추출\n",
        "# 리스트를 이용하여 원하는 행과 열을 각각 짝지어서 추출할 수 있음\n",
        "\n",
        "f = a[[0, 1, 2], [0, 1, 0]]; f"
      ],
      "execution_count": 46,
      "outputs": [
        {
          "output_type": "execute_result",
          "data": {
            "text/plain": [
              "array([1, 4, 5])"
            ]
          },
          "metadata": {},
          "execution_count": 46
        }
      ]
    },
    {
      "cell_type": "code",
      "metadata": {
        "colab": {
          "base_uri": "https://localhost:8080/"
        },
        "id": "57W74MYcWph_",
        "outputId": "6e36c3bb-0354-478e-f13e-482b9abea25c"
      },
      "source": [
        "f.shape"
      ],
      "execution_count": 47,
      "outputs": [
        {
          "output_type": "execute_result",
          "data": {
            "text/plain": [
              "(3,)"
            ]
          },
          "metadata": {},
          "execution_count": 47
        }
      ]
    },
    {
      "cell_type": "code",
      "metadata": {
        "colab": {
          "base_uri": "https://localhost:8080/"
        },
        "id": "8gmI8jFRWwot",
        "outputId": "e007c528-8d29-4127-b276-f6d59ca7665d"
      },
      "source": [
        "# 정수 인덱싱\n",
        "a = np.array([1, 2, 3, 4, 5, 6, 7, 8, 9]); a"
      ],
      "execution_count": 48,
      "outputs": [
        {
          "output_type": "execute_result",
          "data": {
            "text/plain": [
              "array([1, 2, 3, 4, 5, 6, 7, 8, 9])"
            ]
          },
          "metadata": {},
          "execution_count": 48
        }
      ]
    },
    {
      "cell_type": "code",
      "metadata": {
        "colab": {
          "base_uri": "https://localhost:8080/"
        },
        "id": "5F4pPz4BXV5-",
        "outputId": "b4cfd434-597a-428e-d9f9-d23c9558384c"
      },
      "source": [
        "idx = np.array([0, 0, 0, 0, 1, 1, 1, 1, 2, 2, 2, 8]); idx"
      ],
      "execution_count": 52,
      "outputs": [
        {
          "output_type": "execute_result",
          "data": {
            "text/plain": [
              "array([0, 0, 0, 0, 1, 1, 1, 1, 2, 2, 2, 8])"
            ]
          },
          "metadata": {},
          "execution_count": 52
        }
      ]
    },
    {
      "cell_type": "code",
      "metadata": {
        "colab": {
          "base_uri": "https://localhost:8080/"
        },
        "id": "jWubX4HlXmml",
        "outputId": "079efd82-b5df-44f4-a95b-8c8c4e11db4d"
      },
      "source": [
        "a[idx]"
      ],
      "execution_count": 53,
      "outputs": [
        {
          "output_type": "execute_result",
          "data": {
            "text/plain": [
              "array([1, 1, 1, 1, 2, 2, 2, 2, 3, 3, 3, 9])"
            ]
          },
          "metadata": {},
          "execution_count": 53
        }
      ]
    },
    {
      "cell_type": "code",
      "metadata": {
        "colab": {
          "base_uri": "https://localhost:8080/"
        },
        "id": "36loCDtTYbxs",
        "outputId": "4c28a913-511b-45c0-ba2f-f0711e0bf042"
      },
      "source": [
        "# 부울 인덱싱\n",
        "a = np.array([[1, 2], [3, 4], [5, 6]])\n",
        "a "
      ],
      "execution_count": 61,
      "outputs": [
        {
          "output_type": "execute_result",
          "data": {
            "text/plain": [
              "array([[1, 2],\n",
              "       [3, 4],\n",
              "       [5, 6]])"
            ]
          },
          "metadata": {},
          "execution_count": 61
        }
      ]
    },
    {
      "cell_type": "code",
      "metadata": {
        "colab": {
          "base_uri": "https://localhost:8080/"
        },
        "id": "00oVC0pvYidK",
        "outputId": "1a309d9c-56a1-4298-fbc8-651596de3816"
      },
      "source": [
        "# (1, 3, 5) 추출 ==> 열 형태로\n",
        "\n",
        "b = a[:, [True, False]]; b"
      ],
      "execution_count": 63,
      "outputs": [
        {
          "output_type": "execute_result",
          "data": {
            "text/plain": [
              "array([[1],\n",
              "       [3],\n",
              "       [5]])"
            ]
          },
          "metadata": {},
          "execution_count": 63
        }
      ]
    },
    {
      "cell_type": "code",
      "metadata": {
        "colab": {
          "base_uri": "https://localhost:8080/"
        },
        "id": "3FeoQEkkZBNd",
        "outputId": "2199a860-dc6a-4cf0-ad1f-50606c47ccea"
      },
      "source": [
        "b.shape"
      ],
      "execution_count": 64,
      "outputs": [
        {
          "output_type": "execute_result",
          "data": {
            "text/plain": [
              "(3, 1)"
            ]
          },
          "metadata": {},
          "execution_count": 64
        }
      ]
    },
    {
      "cell_type": "code",
      "metadata": {
        "id": "rN2iSihndMaJ"
      },
      "source": [
        "# 배열 연산\n",
        "# 배열의 각 요소별로 동작 \n",
        "# 수학 함수, 연산자, numpy 함수를 통해 배열 연산이 가능\n",
        "\n",
        "x = np.array([[1, 2], [3, 4]])\n",
        "y = np.array([[5, 6], [7, 8]])"
      ],
      "execution_count": 65,
      "outputs": []
    },
    {
      "cell_type": "code",
      "metadata": {
        "colab": {
          "base_uri": "https://localhost:8080/"
        },
        "id": "BkMmYAPadr7e",
        "outputId": "fc0794da-6e18-4ece-efa3-9a842541d5b0"
      },
      "source": [
        "print(x)\n",
        "print('=======================')\n",
        "print(y)"
      ],
      "execution_count": 67,
      "outputs": [
        {
          "output_type": "stream",
          "name": "stdout",
          "text": [
            "[[1 2]\n",
            " [3 4]]\n",
            "=======================\n",
            "[[5 6]\n",
            " [7 8]]\n"
          ]
        }
      ]
    },
    {
      "cell_type": "code",
      "metadata": {
        "colab": {
          "base_uri": "https://localhost:8080/"
        },
        "id": "Y7OzL-51d6VH",
        "outputId": "e3d86fe9-d91f-457c-d27f-1ed040609e83"
      },
      "source": [
        "x + y"
      ],
      "execution_count": 68,
      "outputs": [
        {
          "output_type": "execute_result",
          "data": {
            "text/plain": [
              "array([[ 6,  8],\n",
              "       [10, 12]])"
            ]
          },
          "metadata": {},
          "execution_count": 68
        }
      ]
    },
    {
      "cell_type": "code",
      "metadata": {
        "colab": {
          "base_uri": "https://localhost:8080/"
        },
        "id": "gYen8t7PeHvt",
        "outputId": "9ce9d52d-bdc5-4bf3-d7cd-abb7e411bf67"
      },
      "source": [
        "np.add(x, y)"
      ],
      "execution_count": 69,
      "outputs": [
        {
          "output_type": "execute_result",
          "data": {
            "text/plain": [
              "array([[ 6,  8],\n",
              "       [10, 12]])"
            ]
          },
          "metadata": {},
          "execution_count": 69
        }
      ]
    },
    {
      "cell_type": "code",
      "metadata": {
        "colab": {
          "base_uri": "https://localhost:8080/"
        },
        "id": "76AbE1QyeMGL",
        "outputId": "46181852-9ded-4910-fe1d-3abd9bc3b644"
      },
      "source": [
        "x - y"
      ],
      "execution_count": 70,
      "outputs": [
        {
          "output_type": "execute_result",
          "data": {
            "text/plain": [
              "array([[-4, -4],\n",
              "       [-4, -4]])"
            ]
          },
          "metadata": {},
          "execution_count": 70
        }
      ]
    },
    {
      "cell_type": "code",
      "metadata": {
        "colab": {
          "base_uri": "https://localhost:8080/"
        },
        "id": "lIkAHpRsePUd",
        "outputId": "41727ab3-9acb-4f3a-9b4e-ed59341b8e9c"
      },
      "source": [
        "np.subtract(x, y)"
      ],
      "execution_count": 71,
      "outputs": [
        {
          "output_type": "execute_result",
          "data": {
            "text/plain": [
              "array([[-4, -4],\n",
              "       [-4, -4]])"
            ]
          },
          "metadata": {},
          "execution_count": 71
        }
      ]
    },
    {
      "cell_type": "code",
      "metadata": {
        "colab": {
          "base_uri": "https://localhost:8080/"
        },
        "id": "-zaxEzT1eU2u",
        "outputId": "5243feca-6de1-446c-b3c7-0cd9837f9303"
      },
      "source": [
        "x * y"
      ],
      "execution_count": 72,
      "outputs": [
        {
          "output_type": "execute_result",
          "data": {
            "text/plain": [
              "array([[ 5, 12],\n",
              "       [21, 32]])"
            ]
          },
          "metadata": {},
          "execution_count": 72
        }
      ]
    },
    {
      "cell_type": "code",
      "metadata": {
        "colab": {
          "base_uri": "https://localhost:8080/"
        },
        "id": "x7_k9fFaeW0Q",
        "outputId": "227f6a48-6580-4177-df64-3e872f785525"
      },
      "source": [
        "np.multiply(x, y)"
      ],
      "execution_count": 73,
      "outputs": [
        {
          "output_type": "execute_result",
          "data": {
            "text/plain": [
              "array([[ 5, 12],\n",
              "       [21, 32]])"
            ]
          },
          "metadata": {},
          "execution_count": 73
        }
      ]
    },
    {
      "cell_type": "code",
      "metadata": {
        "colab": {
          "base_uri": "https://localhost:8080/"
        },
        "id": "150gH2ixeiDt",
        "outputId": "7a0322f2-3ed1-4f5f-f098-2a8470cbd00b"
      },
      "source": [
        "x / y"
      ],
      "execution_count": 74,
      "outputs": [
        {
          "output_type": "execute_result",
          "data": {
            "text/plain": [
              "array([[0.2       , 0.33333333],\n",
              "       [0.42857143, 0.5       ]])"
            ]
          },
          "metadata": {},
          "execution_count": 74
        }
      ]
    },
    {
      "cell_type": "code",
      "metadata": {
        "colab": {
          "base_uri": "https://localhost:8080/"
        },
        "id": "fgSommfUekAq",
        "outputId": "aac4cdf0-ee5a-4174-f5fb-b4c9db4dc514"
      },
      "source": [
        "np.divide(x, y)"
      ],
      "execution_count": 75,
      "outputs": [
        {
          "output_type": "execute_result",
          "data": {
            "text/plain": [
              "array([[0.2       , 0.33333333],\n",
              "       [0.42857143, 0.5       ]])"
            ]
          },
          "metadata": {},
          "execution_count": 75
        }
      ]
    },
    {
      "cell_type": "code",
      "metadata": {
        "colab": {
          "base_uri": "https://localhost:8080/"
        },
        "id": "rq_BFuoQepfk",
        "outputId": "79bfc88e-98d6-4707-fe79-fc7df0458af0"
      },
      "source": [
        "np.sqrt(x)"
      ],
      "execution_count": 77,
      "outputs": [
        {
          "output_type": "execute_result",
          "data": {
            "text/plain": [
              "array([[1.        , 1.41421356],\n",
              "       [1.73205081, 2.        ]])"
            ]
          },
          "metadata": {},
          "execution_count": 77
        }
      ]
    },
    {
      "cell_type": "code",
      "metadata": {
        "colab": {
          "base_uri": "https://localhost:8080/"
        },
        "id": "SNBBXwqPe25W",
        "outputId": "aab92f90-28a5-4403-b347-0b1f2d9223bc"
      },
      "source": [
        "# numpy 객체 배열 연산에 조건식 사용 가능\n",
        "\n",
        "x == 2          # 배열 중에 '2'의 유무를 Boolean으로 반환"
      ],
      "execution_count": 78,
      "outputs": [
        {
          "output_type": "execute_result",
          "data": {
            "text/plain": [
              "array([[False,  True],\n",
              "       [False, False]])"
            ]
          },
          "metadata": {},
          "execution_count": 78
        }
      ]
    },
    {
      "cell_type": "code",
      "metadata": {
        "colab": {
          "base_uri": "https://localhost:8080/"
        },
        "id": "h4ADcWNKfqGG",
        "outputId": "7389c4ca-5b8e-491a-ebf3-f7a9dc8f6b69"
      },
      "source": [
        "y > 6"
      ],
      "execution_count": 79,
      "outputs": [
        {
          "output_type": "execute_result",
          "data": {
            "text/plain": [
              "array([[False, False],\n",
              "       [ True,  True]])"
            ]
          },
          "metadata": {},
          "execution_count": 79
        }
      ]
    },
    {
      "cell_type": "code",
      "metadata": {
        "colab": {
          "base_uri": "https://localhost:8080/"
        },
        "id": "PxCLZ_QSfxz3",
        "outputId": "0327b9ee-8af3-4711-ef09-c38c473d2473"
      },
      "source": [
        "# 논리 연산도 가능\n",
        "\n",
        "(x > 3) & (y > 6)"
      ],
      "execution_count": 80,
      "outputs": [
        {
          "output_type": "execute_result",
          "data": {
            "text/plain": [
              "array([[False, False],\n",
              "       [False,  True]])"
            ]
          },
          "metadata": {},
          "execution_count": 80
        }
      ]
    },
    {
      "cell_type": "code",
      "metadata": {
        "id": "DBKAtkuNhv7r"
      },
      "source": [
        "# 브로드캐스팅 (broadcasting)\n",
        "# : 모양이 다른 배열들 간의 연산이 어떤 조건을 만족했을 때 가능하도록 배열을 자동적으로 변환하는 것\n",
        "\n",
        "# 원칙             ====>  특정 조건\n",
        "# 1 2 + 10 10             1 2 + 10\n",
        "# 3 4 + 10 10             3 4 \n",
        "\n",
        "# 브로드캐스팅이 일어날 수 있는 조건\n",
        "# - 차원 크기가 스칼라라면 가능 \n",
        "# (*스칼라 : 방향의 구별 없이 수치만 존재하는 1차원의 물리량)\n",
        "# (*벡터, 텐서 등은 방향과 크기가 있는 물리량.)\n",
        "# - 차원 크기가 스칼라가 아니라면 차원의 짝이 맞은 조건 (축의 길이가 같을 때)"
      ],
      "execution_count": null,
      "outputs": []
    },
    {
      "cell_type": "code",
      "metadata": {
        "colab": {
          "base_uri": "https://localhost:8080/"
        },
        "id": "mcQswlsEjNsL",
        "outputId": "31132eeb-0dc9-4151-861c-934a8020bdf9"
      },
      "source": [
        "a = np.array([[1, 2], [3, 4]])\n",
        "b = 10\n",
        "\n",
        "print(a+b)\n",
        "\n",
        "# b는 10을 갖는 객체이지만 배열a와 연산 결과, \n",
        "# 2열2행의 10이 채워진 배열로 연산이 된다."
      ],
      "execution_count": 82,
      "outputs": [
        {
          "output_type": "stream",
          "name": "stdout",
          "text": [
            "[[11 12]\n",
            " [13 14]]\n"
          ]
        }
      ]
    },
    {
      "cell_type": "code",
      "metadata": {
        "id": "rMK9C9eXj0Tt"
      },
      "source": [
        "a = np.array([1, 2, 3, 4])\n",
        "b = np.array([1, 2])\n",
        "\n",
        "# print(a + b)\n",
        "\n",
        "# 같은 차원의 배열이지만 서로 짝이 맞지 않아서 연산이 불가능"
      ],
      "execution_count": 90,
      "outputs": []
    },
    {
      "cell_type": "code",
      "metadata": {
        "colab": {
          "base_uri": "https://localhost:8080/"
        },
        "id": "cJHPe-FJkUKQ",
        "outputId": "500bf326-c646-4ae9-8830-89ea0ca79a9d"
      },
      "source": [
        "x = np.arange(3)\n",
        "y = 5\n",
        "\n",
        "x + y"
      ],
      "execution_count": 84,
      "outputs": [
        {
          "output_type": "execute_result",
          "data": {
            "text/plain": [
              "array([5, 6, 7])"
            ]
          },
          "metadata": {},
          "execution_count": 84
        }
      ]
    },
    {
      "cell_type": "code",
      "metadata": {
        "colab": {
          "base_uri": "https://localhost:8080/"
        },
        "id": "Kaiw0lfXlAwY",
        "outputId": "09c14080-5bd0-4d94-f9c5-e29884322a10"
      },
      "source": [
        "x = np.ones((3, 3))\n",
        "y = np.arange(3)\n",
        "\n",
        "x + y"
      ],
      "execution_count": 86,
      "outputs": [
        {
          "output_type": "execute_result",
          "data": {
            "text/plain": [
              "array([[1., 2., 3.],\n",
              "       [1., 2., 3.],\n",
              "       [1., 2., 3.]])"
            ]
          },
          "metadata": {},
          "execution_count": 86
        }
      ]
    },
    {
      "cell_type": "code",
      "metadata": {
        "colab": {
          "base_uri": "https://localhost:8080/"
        },
        "id": "fxZb83q3lh5T",
        "outputId": "d3f8d8e6-517d-4edf-f191-f53b9a7138c4"
      },
      "source": [
        "x = np.arange(3).reshape(3, 1)\n",
        "x\n",
        "\n",
        "x + y"
      ],
      "execution_count": 89,
      "outputs": [
        {
          "output_type": "execute_result",
          "data": {
            "text/plain": [
              "array([[0, 1, 2],\n",
              "       [1, 2, 3],\n",
              "       [2, 3, 4]])"
            ]
          },
          "metadata": {},
          "execution_count": 89
        }
      ]
    }
  ]
}